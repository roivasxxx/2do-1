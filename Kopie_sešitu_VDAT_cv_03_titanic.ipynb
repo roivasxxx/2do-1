{
  "cells": [
    {
      "cell_type": "markdown",
      "metadata": {
        "id": "view-in-github",
        "colab_type": "text"
      },
      "source": [
        "<a href=\"https://colab.research.google.com/github/roivasxxx/2do-1/blob/main/Kopie_se%C5%A1itu_VDAT_cv_03_titanic.ipynb\" target=\"_parent\"><img src=\"https://colab.research.google.com/assets/colab-badge.svg\" alt=\"Open In Colab\"/></a>"
      ]
    },
    {
      "cell_type": "markdown",
      "metadata": {
        "id": "uSgicrqz3TYm"
      },
      "source": [
        "# Načtení datasetu (Titanic)"
      ]
    },
    {
      "cell_type": "markdown",
      "metadata": {
        "id": "4bHipA3a3TYq"
      },
      "source": [
        "##### M.Kolář a J.Haviger, 2021"
      ]
    },
    {
      "cell_type": "code",
      "execution_count": 2,
      "metadata": {
        "id": "UEWUnweM3TYr"
      },
      "outputs": [],
      "source": [
        "import numpy as np\n",
        "import matplotlib.pyplot as plt"
      ]
    },
    {
      "cell_type": "markdown",
      "metadata": {
        "id": "nXIrla7m3TYs"
      },
      "source": [
        "Načtení dat pomocí numpy:\n",
        "\n",
        "Ukázka dat: \n",
        "1,1,\"Allen, Miss. Elisabeth Walton\",female,29,0,0,24160,211.3375,B5,S,2,,\"St Louis, MO\""
      ]
    },
    {
      "cell_type": "code",
      "execution_count": null,
      "metadata": {
        "jupyter": {
          "outputs_hidden": true
        },
        "scrolled": true,
        "id": "pz1_0Hwu3TYt",
        "outputId": "56770428-4b8a-48ce-bea6-b9680621d023"
      },
      "outputs": [
        {
          "ename": "ValueError",
          "evalue": "Some errors were detected !\n    Line #2 (got 16 columns instead of 14)\n    Line #3 (got 17 columns instead of 14)\n    Line #4 (got 17 columns instead of 14)\n    Line #5 (got 17 columns instead of 14)\n    Line #6 (got 17 columns instead of 14)\n    Line #7 (got 16 columns instead of 14)\n    Line #8 (got 16 columns instead of 14)\n    Line #9 (got 16 columns instead of 14)\n    Line #10 (got 17 columns instead of 14)\n    Line #11 (got 16 columns instead of 14)\n    Line #12 (got 16 columns instead of 14)\n    Line #13 (got 16 columns instead of 14)\n    Line #14 (got 16 columns instead of 14)\n    Line #15 (got 15 columns instead of 14)\n    Line #16 (got 16 columns instead of 14)\n    Line #17 (got 16 columns instead of 14)\n    Line #18 (got 16 columns instead of 14)\n    Line #19 (got 16 columns instead of 14)\n    Line #20 (got 15 columns instead of 14)\n    Line #21 (got 16 columns instead of 14)\n    Line #22 (got 16 columns instead of 14)\n    Line #23 (got 16 columns instead of 14)\n    Line #24 (got 16 columns instead of 14)\n    Line #25 (got 15 columns instead of 14)\n    Line #26 (got 15 columns instead of 14)\n    Line #27 (got 16 columns instead of 14)\n    Line #28 (got 16 columns instead of 14)\n    Line #29 (got 16 columns instead of 14)\n    Line #30 (got 15 columns instead of 14)\n    Line #31 (got 17 columns instead of 14)\n    Line #32 (got 16 columns instead of 14)\n    Line #33 (got 16 columns instead of 14)\n    Line #34 (got 16 columns instead of 14)\n    Line #35 (got 17 columns instead of 14)\n    Line #36 (got 16 columns instead of 14)\n    Line #37 (got 16 columns instead of 14)\n    Line #38 (got 16 columns instead of 14)\n    Line #39 (got 16 columns instead of 14)\n    Line #40 (got 16 columns instead of 14)\n    Line #41 (got 16 columns instead of 14)\n    Line #42 (got 16 columns instead of 14)\n    Line #43 (got 16 columns instead of 14)\n    Line #44 (got 16 columns instead of 14)\n    Line #45 (got 16 columns instead of 14)\n    Line #46 (got 15 columns instead of 14)\n    Line #47 (got 16 columns instead of 14)\n    Line #48 (got 15 columns instead of 14)\n    Line #49 (got 16 columns instead of 14)\n    Line #50 (got 16 columns instead of 14)\n    Line #51 (got 17 columns instead of 14)\n    Line #52 (got 17 columns instead of 14)\n    Line #53 (got 16 columns instead of 14)\n    Line #54 (got 16 columns instead of 14)\n    Line #55 (got 16 columns instead of 14)\n    Line #56 (got 16 columns instead of 14)\n    Line #57 (got 16 columns instead of 14)\n    Line #58 (got 16 columns instead of 14)\n    Line #59 (got 16 columns instead of 14)\n    Line #60 (got 17 columns instead of 14)\n    Line #61 (got 16 columns instead of 14)\n    Line #62 (got 16 columns instead of 14)\n    Line #63 (got 16 columns instead of 14)\n    Line #64 (got 16 columns instead of 14)\n    Line #65 (got 16 columns instead of 14)\n    Line #66 (got 17 columns instead of 14)\n    Line #67 (got 17 columns instead of 14)\n    Line #68 (got 15 columns instead of 14)\n    Line #69 (got 16 columns instead of 14)\n    Line #70 (got 16 columns instead of 14)\n    Line #71 (got 16 columns instead of 14)\n    Line #72 (got 16 columns instead of 14)\n    Line #73 (got 16 columns instead of 14)\n    Line #74 (got 16 columns instead of 14)\n    Line #75 (got 15 columns instead of 14)\n    Line #76 (got 16 columns instead of 14)\n    Line #77 (got 16 columns instead of 14)\n    Line #78 (got 16 columns instead of 14)\n    Line #79 (got 16 columns instead of 14)\n    Line #80 (got 16 columns instead of 14)\n    Line #81 (got 16 columns instead of 14)\n    Line #82 (got 16 columns instead of 14)\n    Line #83 (got 16 columns instead of 14)\n    Line #84 (got 16 columns instead of 14)\n    Line #85 (got 16 columns instead of 14)\n    Line #86 (got 16 columns instead of 14)\n    Line #87 (got 16 columns instead of 14)\n    Line #88 (got 16 columns instead of 14)\n    Line #89 (got 16 columns instead of 14)\n    Line #90 (got 15 columns instead of 14)\n    Line #91 (got 16 columns instead of 14)\n    Line #92 (got 16 columns instead of 14)\n    Line #93 (got 16 columns instead of 14)\n    Line #94 (got 16 columns instead of 14)\n    Line #95 (got 16 columns instead of 14)\n    Line #96 (got 16 columns instead of 14)\n    Line #97 (got 16 columns instead of 14)\n    Line #98 (got 17 columns instead of 14)\n    Line #99 (got 16 columns instead of 14)\n    Line #100 (got 17 columns instead of 14)\n    Line #101 (got 15 columns instead of 14)\n    Line #102 (got 15 columns instead of 14)\n    Line #103 (got 16 columns instead of 14)\n    Line #104 (got 17 columns instead of 14)\n    Line #105 (got 16 columns instead of 14)\n    Line #106 (got 16 columns instead of 14)\n    Line #107 (got 16 columns instead of 14)\n    Line #108 (got 15 columns instead of 14)\n    Line #109 (got 16 columns instead of 14)\n    Line #110 (got 15 columns instead of 14)\n    Line #111 (got 16 columns instead of 14)\n    Line #112 (got 16 columns instead of 14)\n    Line #113 (got 16 columns instead of 14)\n    Line #114 (got 16 columns instead of 14)\n    Line #115 (got 16 columns instead of 14)\n    Line #116 (got 16 columns instead of 14)\n    Line #117 (got 16 columns instead of 14)\n    Line #118 (got 16 columns instead of 14)\n    Line #119 (got 15 columns instead of 14)\n    Line #120 (got 16 columns instead of 14)\n    Line #121 (got 16 columns instead of 14)\n    Line #122 (got 16 columns instead of 14)\n    Line #123 (got 16 columns instead of 14)\n    Line #124 (got 16 columns instead of 14)\n    Line #125 (got 16 columns instead of 14)\n    Line #126 (got 16 columns instead of 14)\n    Line #127 (got 15 columns instead of 14)\n    Line #128 (got 16 columns instead of 14)\n    Line #129 (got 16 columns instead of 14)\n    Line #130 (got 16 columns instead of 14)\n    Line #131 (got 15 columns instead of 14)\n    Line #132 (got 16 columns instead of 14)\n    Line #133 (got 16 columns instead of 14)\n    Line #134 (got 15 columns instead of 14)\n    Line #135 (got 17 columns instead of 14)\n    Line #136 (got 17 columns instead of 14)\n    Line #137 (got 16 columns instead of 14)\n    Line #138 (got 16 columns instead of 14)\n    Line #139 (got 16 columns instead of 14)\n    Line #140 (got 16 columns instead of 14)\n    Line #141 (got 16 columns instead of 14)\n    Line #142 (got 16 columns instead of 14)\n    Line #143 (got 16 columns instead of 14)\n    Line #144 (got 16 columns instead of 14)\n    Line #145 (got 16 columns instead of 14)\n    Line #146 (got 16 columns instead of 14)\n    Line #147 (got 16 columns instead of 14)\n    Line #148 (got 16 columns instead of 14)\n    Line #149 (got 15 columns instead of 14)\n    Line #150 (got 16 columns instead of 14)\n    Line #151 (got 16 columns instead of 14)\n    Line #152 (got 15 columns instead of 14)\n    Line #153 (got 15 columns instead of 14)\n    Line #154 (got 16 columns instead of 14)\n    Line #155 (got 16 columns instead of 14)\n    Line #156 (got 16 columns instead of 14)\n    Line #157 (got 16 columns instead of 14)\n    Line #158 (got 15 columns instead of 14)\n    Line #159 (got 16 columns instead of 14)\n    Line #160 (got 15 columns instead of 14)\n    Line #161 (got 16 columns instead of 14)\n    Line #162 (got 16 columns instead of 14)\n    Line #163 (got 16 columns instead of 14)\n    Line #164 (got 16 columns instead of 14)\n    Line #165 (got 16 columns instead of 14)\n    Line #166 (got 16 columns instead of 14)\n    Line #167 (got 16 columns instead of 14)\n    Line #168 (got 16 columns instead of 14)\n    Line #169 (got 16 columns instead of 14)\n    Line #170 (got 15 columns instead of 14)\n    Line #171 (got 17 columns instead of 14)\n    Line #172 (got 15 columns instead of 14)\n    Line #173 (got 16 columns instead of 14)\n    Line #174 (got 15 columns instead of 14)\n    Line #175 (got 15 columns instead of 14)\n    Line #176 (got 16 columns instead of 14)\n    Line #177 (got 16 columns instead of 14)\n    Line #178 (got 16 columns instead of 14)\n    Line #179 (got 16 columns instead of 14)\n    Line #180 (got 16 columns instead of 14)\n    Line #181 (got 16 columns instead of 14)\n    Line #182 (got 15 columns instead of 14)\n    Line #183 (got 16 columns instead of 14)\n    Line #184 (got 15 columns instead of 14)\n    Line #185 (got 15 columns instead of 14)\n    Line #186 (got 16 columns instead of 14)\n    Line #187 (got 16 columns instead of 14)\n    Line #188 (got 16 columns instead of 14)\n    Line #189 (got 16 columns instead of 14)\n    Line #190 (got 16 columns instead of 14)\n    Line #191 (got 16 columns instead of 14)\n    Line #192 (got 16 columns instead of 14)\n    Line #193 (got 16 columns instead of 14)\n    Line #194 (got 15 columns instead of 14)\n    Line #195 (got 16 columns instead of 14)\n    Line #196 (got 16 columns instead of 14)\n    Line #197 (got 15 columns instead of 14)\n    Line #198 (got 16 columns instead of 14)\n    Line #199 (got 16 columns instead of 14)\n    Line #200 (got 16 columns instead of 14)\n    Line #201 (got 16 columns instead of 14)\n    Line #202 (got 16 columns instead of 14)\n    Line #203 (got 16 columns instead of 14)\n    Line #204 (got 16 columns instead of 14)\n    Line #205 (got 16 columns instead of 14)\n    Line #206 (got 16 columns instead of 14)\n    Line #207 (got 16 columns instead of 14)\n    Line #208 (got 16 columns instead of 14)\n    Line #209 (got 16 columns instead of 14)\n    Line #210 (got 16 columns instead of 14)\n    Line #211 (got 16 columns instead of 14)\n    Line #212 (got 16 columns instead of 14)\n    Line #213 (got 16 columns instead of 14)\n    Line #214 (got 16 columns instead of 14)\n    Line #215 (got 16 columns instead of 14)\n    Line #216 (got 16 columns instead of 14)\n    Line #217 (got 16 columns instead of 14)\n    Line #218 (got 16 columns instead of 14)\n    Line #219 (got 16 columns instead of 14)\n    Line #220 (got 15 columns instead of 14)\n    Line #221 (got 16 columns instead of 14)\n    Line #222 (got 16 columns instead of 14)\n    Line #223 (got 16 columns instead of 14)\n    Line #224 (got 16 columns instead of 14)\n    Line #225 (got 15 columns instead of 14)\n    Line #226 (got 16 columns instead of 14)\n    Line #227 (got 16 columns instead of 14)\n    Line #228 (got 16 columns instead of 14)\n    Line #229 (got 16 columns instead of 14)\n    Line #230 (got 16 columns instead of 14)\n    Line #231 (got 16 columns instead of 14)\n    Line #232 (got 15 columns instead of 14)\n    Line #233 (got 16 columns instead of 14)\n    Line #234 (got 16 columns instead of 14)\n    Line #235 (got 17 columns instead of 14)\n    Line #236 (got 16 columns instead of 14)\n    Line #237 (got 16 columns instead of 14)\n    Line #238 (got 15 columns instead of 14)\n    Line #239 (got 15 columns instead of 14)\n    Line #240 (got 16 columns instead of 14)\n    Line #241 (got 16 columns instead of 14)\n    Line #242 (got 16 columns instead of 14)\n    Line #243 (got 16 columns instead of 14)\n    Line #244 (got 16 columns instead of 14)\n    Line #245 (got 16 columns instead of 14)\n    Line #246 (got 16 columns instead of 14)\n    Line #247 (got 16 columns instead of 14)\n    Line #248 (got 16 columns instead of 14)\n    Line #249 (got 16 columns instead of 14)\n    Line #250 (got 15 columns instead of 14)\n    Line #251 (got 17 columns instead of 14)\n    Line #252 (got 17 columns instead of 14)\n    Line #253 (got 17 columns instead of 14)\n    Line #254 (got 17 columns instead of 14)\n    Line #255 (got 17 columns instead of 14)\n    Line #256 (got 16 columns instead of 14)\n    Line #257 (got 15 columns instead of 14)\n    Line #258 (got 16 columns instead of 14)\n    Line #259 (got 16 columns instead of 14)\n    Line #260 (got 15 columns instead of 14)\n    Line #261 (got 16 columns instead of 14)\n    Line #262 (got 16 columns instead of 14)\n    Line #263 (got 16 columns instead of 14)\n    Line #264 (got 16 columns instead of 14)\n    Line #265 (got 16 columns instead of 14)\n    Line #266 (got 16 columns instead of 14)\n    Line #267 (got 16 columns instead of 14)\n    Line #268 (got 16 columns instead of 14)\n    Line #269 (got 17 columns instead of 14)\n    Line #270 (got 16 columns instead of 14)\n    Line #271 (got 16 columns instead of 14)\n    Line #272 (got 16 columns instead of 14)\n    Line #273 (got 16 columns instead of 14)\n    Line #274 (got 16 columns instead of 14)\n    Line #275 (got 16 columns instead of 14)\n    Line #276 (got 16 columns instead of 14)\n    Line #277 (got 16 columns instead of 14)\n    Line #278 (got 16 columns instead of 14)\n    Line #279 (got 16 columns instead of 14)\n    Line #280 (got 16 columns instead of 14)\n    Line #281 (got 17 columns instead of 14)\n    Line #282 (got 16 columns instead of 14)\n    Line #283 (got 16 columns instead of 14)\n    Line #284 (got 16 columns instead of 14)\n    Line #285 (got 16 columns instead of 14)\n    Line #286 (got 16 columns instead of 14)\n    Line #287 (got 16 columns instead of 14)\n    Line #288 (got 16 columns instead of 14)\n    Line #289 (got 16 columns instead of 14)\n    Line #290 (got 16 columns instead of 14)\n    Line #291 (got 16 columns instead of 14)\n    Line #292 (got 16 columns instead of 14)\n    Line #293 (got 16 columns instead of 14)\n    Line #294 (got 16 columns instead of 14)\n    Line #295 (got 16 columns instead of 14)\n    Line #296 (got 16 columns instead of 14)\n    Line #297 (got 16 columns instead of 14)\n    Line #298 (got 16 columns instead of 14)\n    Line #299 (got 16 columns instead of 14)\n    Line #300 (got 16 columns instead of 14)\n    Line #301 (got 16 columns instead of 14)\n    Line #302 (got 16 columns instead of 14)\n    Line #303 (got 16 columns instead of 14)\n    Line #304 (got 15 columns instead of 14)\n    Line #305 (got 16 columns instead of 14)\n    Line #306 (got 16 columns instead of 14)\n    Line #307 (got 16 columns instead of 14)\n    Line #308 (got 16 columns instead of 14)\n    Line #309 (got 16 columns instead of 14)\n    Line #310 (got 16 columns instead of 14)\n    Line #311 (got 16 columns instead of 14)\n    Line #312 (got 16 columns instead of 14)\n    Line #313 (got 16 columns instead of 14)\n    Line #314 (got 16 columns instead of 14)\n    Line #315 (got 16 columns instead of 14)\n    Line #316 (got 16 columns instead of 14)\n    Line #317 (got 16 columns instead of 14)\n    Line #318 (got 16 columns instead of 14)\n    Line #319 (got 17 columns instead of 14)\n    Line #320 (got 17 columns instead of 14)\n    Line #321 (got 16 columns instead of 14)\n    Line #322 (got 15 columns instead of 14)\n    Line #323 (got 16 columns instead of 14)\n    Line #324 (got 16 columns instead of 14)\n    Line #325 (got 17 columns instead of 14)\n    Line #326 (got 16 columns instead of 14)\n    Line #327 (got 16 columns instead of 14)\n    Line #328 (got 17 columns instead of 14)\n    Line #329 (got 17 columns instead of 14)\n    Line #330 (got 17 columns instead of 14)\n    Line #331 (got 16 columns instead of 14)\n    Line #332 (got 16 columns instead of 14)\n    Line #333 (got 16 columns instead of 14)\n    Line #334 (got 17 columns instead of 14)\n    Line #335 (got 15 columns instead of 14)\n    Line #336 (got 17 columns instead of 14)\n    Line #337 (got 17 columns instead of 14)\n    Line #338 (got 16 columns instead of 14)\n    Line #339 (got 16 columns instead of 14)\n    Line #340 (got 16 columns instead of 14)\n    Line #341 (got 15 columns instead of 14)\n    Line #342 (got 17 columns instead of 14)\n    Line #343 (got 17 columns instead of 14)\n    Line #344 (got 17 columns instead of 14)\n    Line #345 (got 17 columns instead of 14)\n    Line #346 (got 15 columns instead of 14)\n    Line #347 (got 16 columns instead of 14)\n    Line #348 (got 17 columns instead of 14)\n    Line #349 (got 17 columns instead of 14)\n    Line #350 (got 15 columns instead of 14)\n    Line #351 (got 17 columns instead of 14)\n    Line #352 (got 16 columns instead of 14)\n    Line #353 (got 17 columns instead of 14)\n    Line #354 (got 16 columns instead of 14)\n    Line #355 (got 16 columns instead of 14)\n    Line #356 (got 17 columns instead of 14)\n    Line #357 (got 17 columns instead of 14)\n    Line #358 (got 17 columns instead of 14)\n    Line #359 (got 17 columns instead of 14)\n    Line #360 (got 17 columns instead of 14)\n    Line #361 (got 16 columns instead of 14)\n    Line #362 (got 15 columns instead of 14)\n    Line #363 (got 16 columns instead of 14)\n    Line #364 (got 17 columns instead of 14)\n    Line #365 (got 17 columns instead of 14)\n    Line #366 (got 17 columns instead of 14)\n    Line #367 (got 16 columns instead of 14)\n    Line #368 (got 15 columns instead of 14)\n    Line #369 (got 17 columns instead of 14)\n    Line #370 (got 15 columns instead of 14)\n    Line #371 (got 15 columns instead of 14)\n    Line #372 (got 16 columns instead of 14)\n    Line #373 (got 16 columns instead of 14)\n    Line #374 (got 16 columns instead of 14)\n    Line #375 (got 15 columns instead of 14)\n    Line #376 (got 15 columns instead of 14)\n    Line #377 (got 16 columns instead of 14)\n    Line #378 (got 16 columns instead of 14)\n    Line #379 (got 16 columns instead of 14)\n    Line #380 (got 17 columns instead of 14)\n    Line #381 (got 16 columns instead of 14)\n    Line #382 (got 17 columns instead of 14)\n    Line #383 (got 17 columns instead of 14)\n    Line #384 (got 17 columns instead of 14)\n    Line #385 (got 15 columns instead of 14)\n    Line #386 (got 16 columns instead of 14)\n    Line #387 (got 17 columns instead of 14)\n    Line #388 (got 17 columns instead of 14)\n    Line #389 (got 15 columns instead of 14)\n    Line #390 (got 17 columns instead of 14)\n    Line #391 (got 16 columns instead of 14)\n    Line #392 (got 17 columns instead of 14)\n    Line #393 (got 16 columns instead of 14)\n    Line #394 (got 16 columns instead of 14)\n    Line #395 (got 15 columns instead of 14)\n    Line #396 (got 16 columns instead of 14)\n    Line #397 (got 16 columns instead of 14)\n    Line #398 (got 16 columns instead of 14)\n    Line #399 (got 16 columns instead of 14)\n    Line #400 (got 15 columns instead of 14)\n    Line #401 (got 15 columns instead of 14)\n    Line #402 (got 16 columns instead of 14)\n    Line #403 (got 16 columns instead of 14)\n    Line #404 (got 16 columns instead of 14)\n    Line #405 (got 16 columns instead of 14)\n    Line #406 (got 17 columns instead of 14)\n    Line #407 (got 17 columns instead of 14)\n    Line #408 (got 16 columns instead of 14)\n    Line #409 (got 17 columns instead of 14)\n    Line #410 (got 17 columns instead of 14)\n    Line #411 (got 16 columns instead of 14)\n    Line #412 (got 15 columns instead of 14)\n    Line #413 (got 16 columns instead of 14)\n    Line #414 (got 16 columns instead of 14)\n    Line #415 (got 15 columns instead of 14)\n    Line #416 (got 16 columns instead of 14)\n    Line #417 (got 16 columns instead of 14)\n    Line #418 (got 16 columns instead of 14)\n    Line #419 (got 16 columns instead of 14)\n    Line #420 (got 16 columns instead of 14)\n    Line #421 (got 16 columns instead of 14)\n    Line #422 (got 16 columns instead of 14)\n    Line #423 (got 15 columns instead of 14)\n    Line #424 (got 16 columns instead of 14)\n    Line #425 (got 16 columns instead of 14)\n    Line #426 (got 16 columns instead of 14)\n    Line #427 (got 16 columns instead of 14)\n    Line #428 (got 16 columns instead of 14)\n    Line #429 (got 15 columns instead of 14)\n    Line #430 (got 16 columns instead of 14)\n    Line #431 (got 16 columns instead of 14)\n    Line #432 (got 16 columns instead of 14)\n    Line #433 (got 16 columns instead of 14)\n    Line #434 (got 17 columns instead of 14)\n    Line #435 (got 16 columns instead of 14)\n    Line #436 (got 16 columns instead of 14)\n    Line #437 (got 15 columns instead of 14)\n    Line #438 (got 16 columns instead of 14)\n    Line #439 (got 17 columns instead of 14)\n    Line #440 (got 17 columns instead of 14)\n    Line #441 (got 17 columns instead of 14)\n    Line #442 (got 16 columns instead of 14)\n    Line #443 (got 16 columns instead of 14)\n    Line #444 (got 16 columns instead of 14)\n    Line #445 (got 16 columns instead of 14)\n    Line #446 (got 16 columns instead of 14)\n    Line #447 (got 17 columns instead of 14)\n    Line #448 (got 17 columns instead of 14)\n    Line #449 (got 17 columns instead of 14)\n    Line #450 (got 17 columns instead of 14)\n    Line #451 (got 16 columns instead of 14)\n    Line #452 (got 16 columns instead of 14)\n    Line #453 (got 16 columns instead of 14)\n    Line #454 (got 16 columns instead of 14)\n    Line #455 (got 15 columns instead of 14)\n    Line #456 (got 16 columns instead of 14)\n    Line #457 (got 16 columns instead of 14)\n    Line #458 (got 16 columns instead of 14)\n    Line #459 (got 16 columns instead of 14)\n    Line #460 (got 16 columns instead of 14)\n    Line #461 (got 16 columns instead of 14)\n    Line #462 (got 16 columns instead of 14)\n    Line #463 (got 15 columns instead of 14)\n    Line #464 (got 15 columns instead of 14)\n    Line #465 (got 15 columns instead of 14)\n    Line #466 (got 16 columns instead of 14)\n    Line #467 (got 16 columns instead of 14)\n    Line #468 (got 16 columns instead of 14)\n    Line #469 (got 17 columns instead of 14)\n    Line #470 (got 16 columns instead of 14)\n    Line #471 (got 16 columns instead of 14)\n    Line #472 (got 16 columns instead of 14)\n    Line #473 (got 16 columns instead of 14)\n    Line #474 (got 16 columns instead of 14)\n    Line #475 (got 15 columns instead of 14)\n    Line #476 (got 16 columns instead of 14)\n    Line #477 (got 16 columns instead of 14)\n    Line #478 (got 15 columns instead of 14)\n    Line #479 (got 16 columns instead of 14)\n    Line #480 (got 16 columns instead of 14)\n    Line #481 (got 16 columns instead of 14)\n    Line #482 (got 15 columns instead of 14)\n    Line #483 (got 15 columns instead of 14)\n    Line #484 (got 15 columns instead of 14)\n    Line #485 (got 15 columns instead of 14)\n    Line #486 (got 15 columns instead of 14)\n    Line #487 (got 17 columns instead of 14)\n    Line #488 (got 16 columns instead of 14)\n    Line #489 (got 16 columns instead of 14)\n    Line #490 (got 16 columns instead of 14)\n    Line #491 (got 15 columns instead of 14)\n    Line #492 (got 15 columns instead of 14)\n    Line #493 (got 16 columns instead of 14)\n    Line #494 (got 16 columns instead of 14)\n    Line #495 (got 16 columns instead of 14)\n    Line #496 (got 15 columns instead of 14)\n    Line #497 (got 16 columns instead of 14)\n    Line #498 (got 16 columns instead of 14)\n    Line #499 (got 16 columns instead of 14)\n    Line #500 (got 16 columns instead of 14)\n    Line #501 (got 16 columns instead of 14)\n    Line #502 (got 16 columns instead of 14)\n    Line #503 (got 16 columns instead of 14)\n    Line #504 (got 16 columns instead of 14)\n    Line #505 (got 16 columns instead of 14)\n    Line #506 (got 16 columns instead of 14)\n    Line #507 (got 16 columns instead of 14)\n    Line #508 (got 16 columns instead of 14)\n    Line #509 (got 16 columns instead of 14)\n    Line #510 (got 16 columns instead of 14)\n    Line #511 (got 17 columns instead of 14)\n    Line #512 (got 16 columns instead of 14)\n    Line #513 (got 16 columns instead of 14)\n    Line #514 (got 15 columns instead of 14)\n    Line #515 (got 16 columns instead of 14)\n    Line #516 (got 16 columns instead of 14)\n    Line #517 (got 16 columns instead of 14)\n    Line #518 (got 16 columns instead of 14)\n    Line #519 (got 16 columns instead of 14)\n    Line #520 (got 16 columns instead of 14)\n    Line #521 (got 16 columns instead of 14)\n    Line #522 (got 16 columns instead of 14)\n    Line #523 (got 16 columns instead of 14)\n    Line #524 (got 15 columns instead of 14)\n    Line #525 (got 16 columns instead of 14)\n    Line #526 (got 17 columns instead of 14)\n    Line #527 (got 16 columns instead of 14)\n    Line #528 (got 17 columns instead of 14)\n    Line #529 (got 16 columns instead of 14)\n    Line #530 (got 16 columns instead of 14)\n    Line #531 (got 16 columns instead of 14)\n    Line #532 (got 16 columns instead of 14)\n    Line #533 (got 15 columns instead of 14)\n    Line #534 (got 16 columns instead of 14)\n    Line #535 (got 17 columns instead of 14)\n    Line #536 (got 15 columns instead of 14)\n    Line #537 (got 15 columns instead of 14)\n    Line #538 (got 16 columns instead of 14)\n    Line #539 (got 16 columns instead of 14)\n    Line #540 (got 16 columns instead of 14)\n    Line #541 (got 15 columns instead of 14)\n    Line #542 (got 16 columns instead of 14)\n    Line #543 (got 16 columns instead of 14)\n    Line #544 (got 15 columns instead of 14)\n    Line #545 (got 17 columns instead of 14)\n    Line #546 (got 17 columns instead of 14)\n    Line #547 (got 17 columns instead of 14)\n    Line #548 (got 16 columns instead of 14)\n    Line #549 (got 16 columns instead of 14)\n    Line #550 (got 16 columns instead of 14)\n    Line #551 (got 15 columns instead of 14)\n    Line #552 (got 16 columns instead of 14)\n    Line #553 (got 16 columns instead of 14)\n    Line #554 (got 16 columns instead of 14)\n    Line #555 (got 16 columns instead of 14)\n    Line #556 (got 18 columns instead of 14)\n    Line #557 (got 15 columns instead of 14)\n    Line #558 (got 16 columns instead of 14)\n    Line #559 (got 16 columns instead of 14)\n    Line #560 (got 15 columns instead of 14)\n    Line #561 (got 16 columns instead of 14)\n    Line #562 (got 16 columns instead of 14)\n    Line #563 (got 16 columns instead of 14)\n    Line #564 (got 16 columns instead of 14)\n    Line #565 (got 16 columns instead of 14)\n    Line #566 (got 16 columns instead of 14)\n    Line #567 (got 16 columns instead of 14)\n    Line #568 (got 15 columns instead of 14)\n    Line #569 (got 15 columns instead of 14)\n    Line #570 (got 16 columns instead of 14)\n    Line #571 (got 16 columns instead of 14)\n    Line #572 (got 17 columns instead of 14)\n    Line #573 (got 15 columns instead of 14)\n    Line #574 (got 16 columns instead of 14)\n    Line #575 (got 16 columns instead of 14)\n    Line #576 (got 15 columns instead of 14)\n    Line #577 (got 16 columns instead of 14)\n    Line #578 (got 16 columns instead of 14)\n    Line #579 (got 16 columns instead of 14)\n    Line #580 (got 16 columns instead of 14)\n    Line #581 (got 17 columns instead of 14)\n    Line #582 (got 16 columns instead of 14)\n    Line #583 (got 17 columns instead of 14)\n    Line #584 (got 15 columns instead of 14)\n    Line #585 (got 17 columns instead of 14)\n    Line #586 (got 15 columns instead of 14)\n    Line #587 (got 16 columns instead of 14)\n    Line #588 (got 16 columns instead of 14)\n    Line #589 (got 16 columns instead of 14)\n    Line #590 (got 17 columns instead of 14)\n    Line #591 (got 17 columns instead of 14)\n    Line #592 (got 16 columns instead of 14)\n    Line #593 (got 16 columns instead of 14)\n    Line #594 (got 16 columns instead of 14)\n    Line #595 (got 16 columns instead of 14)\n    Line #596 (got 16 columns instead of 14)\n    Line #597 (got 16 columns instead of 14)\n    Line #598 (got 16 columns instead of 14)\n    Line #599 (got 17 columns instead of 14)\n    Line #600 (got 15 columns instead of 14)\n    Line #601 (got 16 columns instead of 14)\n    Line #602 (got 16 columns instead of 14)\n    Line #603 (got 17 columns instead of 14)\n    Line #604 (got 15 columns instead of 14)\n    Line #605 (got 15 columns instead of 14)\n    Line #606 (got 16 columns instead of 14)\n    Line #607 (got 16 columns instead of 14)\n    Line #608 (got 16 columns instead of 14)\n    Line #609 (got 16 columns instead of 14)\n    Line #610 (got 16 columns instead of 14)\n    Line #611 (got 17 columns instead of 14)\n    Line #612 (got 16 columns instead of 14)\n    Line #613 (got 17 columns instead of 14)\n    Line #614 (got 16 columns instead of 14)\n    Line #615 (got 16 columns instead of 14)\n    Line #616 (got 17 columns instead of 14)\n    Line #617 (got 17 columns instead of 14)\n    Line #618 (got 16 columns instead of 14)\n    Line #619 (got 16 columns instead of 14)\n    Line #620 (got 17 columns instead of 14)\n    Line #621 (got 15 columns instead of 14)\n    Line #622 (got 15 columns instead of 14)\n    Line #623 (got 17 columns instead of 14)\n    Line #624 (got 17 columns instead of 14)\n    Line #625 (got 16 columns instead of 14)\n    Line #626 (got 15 columns instead of 14)\n    Line #627 (got 16 columns instead of 14)\n    Line #628 (got 16 columns instead of 14)\n    Line #629 (got 16 columns instead of 14)\n    Line #630 (got 17 columns instead of 14)\n    Line #631 (got 17 columns instead of 14)\n    Line #632 (got 16 columns instead of 14)\n    Line #633 (got 16 columns instead of 14)\n    Line #634 (got 16 columns instead of 14)\n    Line #635 (got 15 columns instead of 14)\n    Line #636 (got 16 columns instead of 14)\n    Line #637 (got 16 columns instead of 14)\n    Line #638 (got 16 columns instead of 14)\n    Line #639 (got 16 columns instead of 14)\n    Line #640 (got 16 columns instead of 14)\n    Line #641 (got 16 columns instead of 14)\n    Line #642 (got 16 columns instead of 14)\n    Line #643 (got 15 columns instead of 14)\n    Line #644 (got 16 columns instead of 14)\n    Line #645 (got 16 columns instead of 14)\n    Line #646 (got 16 columns instead of 14)\n    Line #647 (got 16 columns instead of 14)\n    Line #648 (got 16 columns instead of 14)\n    Line #649 (got 16 columns instead of 14)\n    Line #650 (got 17 columns instead of 14)\n    Line #651 (got 16 columns instead of 14)\n    Line #652 (got 16 columns instead of 14)\n    Line #653 (got 16 columns instead of 14)\n    Line #654 (got 15 columns instead of 14)\n    Line #655 (got 15 columns instead of 14)\n    Line #656 (got 16 columns instead of 14)\n    Line #657 (got 17 columns instead of 14)\n    Line #658 (got 16 columns instead of 14)\n    Line #659 (got 15 columns instead of 14)\n    Line #660 (got 17 columns instead of 14)\n    Line #661 (got 17 columns instead of 14)\n    Line #662 (got 16 columns instead of 14)\n    Line #663 (got 16 columns instead of 14)\n    Line #664 (got 16 columns instead of 14)\n    Line #665 (got 16 columns instead of 14)\n    Line #666 (got 16 columns instead of 14)\n    Line #667 (got 15 columns instead of 14)\n    Line #668 (got 15 columns instead of 14)\n    Line #669 (got 15 columns instead of 14)\n    Line #670 (got 16 columns instead of 14)\n    Line #671 (got 16 columns instead of 14)\n    Line #672 (got 16 columns instead of 14)\n    Line #673 (got 16 columns instead of 14)\n    Line #674 (got 15 columns instead of 14)\n    Line #675 (got 17 columns instead of 14)\n    Line #676 (got 16 columns instead of 14)\n    Line #677 (got 15 columns instead of 14)\n    Line #678 (got 15 columns instead of 14)\n    Line #679 (got 16 columns instead of 14)\n    Line #680 (got 16 columns instead of 14)\n    Line #681 (got 16 columns instead of 14)\n    Line #682 (got 16 columns instead of 14)\n    Line #683 (got 16 columns instead of 14)\n    Line #684 (got 16 columns instead of 14)\n    Line #685 (got 15 columns instead of 14)\n    Line #686 (got 16 columns instead of 14)\n    Line #687 (got 16 columns instead of 14)\n    Line #688 (got 16 columns instead of 14)\n    Line #689 (got 16 columns instead of 14)\n    Line #690 (got 17 columns instead of 14)\n    Line #691 (got 18 columns instead of 14)\n    Line #692 (got 17 columns instead of 14)\n    Line #693 (got 16 columns instead of 14)\n    Line #694 (got 16 columns instead of 14)\n    Line #695 (got 16 columns instead of 14)\n    Line #696 (got 17 columns instead of 14)\n    Line #697 (got 17 columns instead of 14)\n    Line #698 (got 18 columns instead of 14)\n    Line #699 (got 17 columns instead of 14)\n    Line #700 (got 17 columns instead of 14)\n    Line #701 (got 15 columns instead of 14)\n    Line #702 (got 15 columns instead of 14)\n    Line #703 (got 15 columns instead of 14)\n    Line #704 (got 15 columns instead of 14)\n    Line #705 (got 15 columns instead of 14)\n    Line #706 (got 15 columns instead of 14)\n    Line #707 (got 15 columns instead of 14)\n    Line #708 (got 16 columns instead of 14)\n    Line #709 (got 15 columns instead of 14)\n    Line #710 (got 16 columns instead of 14)\n    Line #711 (got 16 columns instead of 14)\n    Line #712 (got 17 columns instead of 14)\n    Line #713 (got 17 columns instead of 14)\n    Line #714 (got 17 columns instead of 14)\n    Line #715 (got 17 columns instead of 14)\n    Line #716 (got 17 columns instead of 14)\n    Line #717 (got 15 columns instead of 14)\n    Line #718 (got 16 columns instead of 14)\n    Line #719 (got 16 columns instead of 14)\n    Line #720 (got 15 columns instead of 14)\n    Line #721 (got 15 columns instead of 14)\n    Line #722 (got 15 columns instead of 14)\n    Line #723 (got 15 columns instead of 14)\n    Line #724 (got 16 columns instead of 14)\n    Line #725 (got 17 columns instead of 14)\n    Line #726 (got 16 columns instead of 14)\n    Line #727 (got 15 columns instead of 14)\n    Line #728 (got 16 columns instead of 14)\n    Line #729 (got 16 columns instead of 14)\n    Line #730 (got 15 columns instead of 14)\n    Line #731 (got 15 columns instead of 14)\n    Line #732 (got 15 columns instead of 14)\n    Line #733 (got 15 columns instead of 14)\n    Line #734 (got 15 columns instead of 14)\n    Line #735 (got 15 columns instead of 14)\n    Line #736 (got 15 columns instead of 14)\n    Line #737 (got 15 columns instead of 14)\n    Line #738 (got 16 columns instead of 14)\n    Line #739 (got 16 columns instead of 14)\n    Line #740 (got 16 columns instead of 14)\n    Line #741 (got 16 columns instead of 14)\n    Line #742 (got 17 columns instead of 14)\n    Line #743 (got 17 columns instead of 14)\n    Line #744 (got 17 columns instead of 14)\n    Line #745 (got 15 columns instead of 14)\n    Line #746 (got 15 columns instead of 14)\n    Line #747 (got 16 columns instead of 14)\n    Line #748 (got 17 columns instead of 14)\n    Line #749 (got 15 columns instead of 14)\n    Line #750 (got 17 columns instead of 14)\n    Line #751 (got 17 columns instead of 14)\n    Line #752 (got 16 columns instead of 14)\n    Line #753 (got 16 columns instead of 14)\n    Line #754 (got 16 columns instead of 14)\n    Line #755 (got 16 columns instead of 14)\n    Line #756 (got 16 columns instead of 14)\n    Line #757 (got 17 columns instead of 14)\n    Line #758 (got 15 columns instead of 14)\n    Line #759 (got 17 columns instead of 14)\n    Line #760 (got 17 columns instead of 14)\n    Line #761 (got 17 columns instead of 14)\n    Line #762 (got 17 columns instead of 14)\n    Line #763 (got 16 columns instead of 14)\n    Line #764 (got 16 columns instead of 14)\n    Line #765 (got 16 columns instead of 14)\n    Line #766 (got 15 columns instead of 14)\n    Line #767 (got 17 columns instead of 14)\n    Line #768 (got 17 columns instead of 14)\n    Line #769 (got 17 columns instead of 14)\n    Line #770 (got 17 columns instead of 14)\n    Line #771 (got 15 columns instead of 14)\n    Line #772 (got 15 columns instead of 14)\n    Line #773 (got 16 columns instead of 14)\n    Line #774 (got 15 columns instead of 14)\n    Line #775 (got 15 columns instead of 14)\n    Line #776 (got 18 columns instead of 14)\n    Line #777 (got 15 columns instead of 14)\n    Line #778 (got 15 columns instead of 14)\n    Line #779 (got 15 columns instead of 14)\n    Line #780 (got 15 columns instead of 14)\n    Line #781 (got 16 columns instead of 14)\n    Line #782 (got 16 columns instead of 14)\n    Line #783 (got 16 columns instead of 14)\n    Line #784 (got 16 columns instead of 14)\n    Line #785 (got 16 columns instead of 14)\n    Line #786 (got 16 columns instead of 14)\n    Line #787 (got 15 columns instead of 14)\n    Line #788 (got 16 columns instead of 14)\n    Line #789 (got 16 columns instead of 14)\n    Line #790 (got 16 columns instead of 14)\n    Line #791 (got 17 columns instead of 14)\n    Line #792 (got 17 columns instead of 14)\n    Line #793 (got 16 columns instead of 14)\n    Line #794 (got 15 columns instead of 14)\n    Line #795 (got 16 columns instead of 14)\n    Line #796 (got 15 columns instead of 14)\n    Line #797 (got 15 columns instead of 14)\n    Line #798 (got 16 columns instead of 14)\n    Line #799 (got 16 columns instead of 14)\n    Line #800 (got 15 columns instead of 14)\n    Line #801 (got 15 columns instead of 14)\n    Line #802 (got 18 columns instead of 14)\n    Line #803 (got 16 columns instead of 14)\n    Line #804 (got 15 columns instead of 14)\n    Line #805 (got 15 columns instead of 14)\n    Line #806 (got 15 columns instead of 14)\n    Line #807 (got 15 columns instead of 14)\n    Line #808 (got 16 columns instead of 14)\n    Line #809 (got 15 columns instead of 14)\n    Line #810 (got 16 columns instead of 14)\n    Line #811 (got 18 columns instead of 14)\n    Line #812 (got 18 columns instead of 14)\n    Line #813 (got 17 columns instead of 14)\n    Line #814 (got 18 columns instead of 14)\n    Line #815 (got 18 columns instead of 14)\n    Line #816 (got 18 columns instead of 14)\n    Line #817 (got 16 columns instead of 14)\n    Line #818 (got 15 columns instead of 14)\n    Line #819 (got 16 columns instead of 14)\n    Line #820 (got 15 columns instead of 14)\n    Line #821 (got 15 columns instead of 14)\n    Line #822 (got 15 columns instead of 14)\n    Line #823 (got 17 columns instead of 14)\n    Line #824 (got 17 columns instead of 14)\n    Line #825 (got 18 columns instead of 14)\n    Line #826 (got 18 columns instead of 14)\n    Line #827 (got 16 columns instead of 14)\n    Line #828 (got 18 columns instead of 14)\n    Line #829 (got 15 columns instead of 14)\n    Line #830 (got 17 columns instead of 14)\n    Line #831 (got 17 columns instead of 14)\n    Line #832 (got 17 columns instead of 14)\n    Line #833 (got 17 columns instead of 14)\n    Line #834 (got 17 columns instead of 14)\n    Line #835 (got 17 columns instead of 14)\n    Line #836 (got 17 columns instead of 14)\n    Line #837 (got 17 columns instead of 14)\n    Line #838 (got 17 columns instead of 14)\n    Line #839 (got 17 columns instead of 14)\n    Line #840 (got 15 columns instead of 14)\n    Line #841 (got 17 columns instead of 14)\n    Line #842 (got 17 columns instead of 14)\n    Line #843 (got 17 columns instead of 14)\n    Line #844 (got 17 columns instead of 14)\n    Line #845 (got 15 columns instead of 14)\n    Line #846 (got 15 columns instead of 14)\n    Line #847 (got 15 columns instead of 14)\n    Line #848 (got 15 columns instead of 14)\n    Line #849 (got 15 columns instead of 14)\n    Line #850 (got 15 columns instead of 14)\n    Line #851 (got 15 columns instead of 14)\n    Line #852 (got 15 columns instead of 14)\n    Line #853 (got 15 columns instead of 14)\n    Line #854 (got 15 columns instead of 14)\n    Line #855 (got 15 columns instead of 14)\n    Line #856 (got 15 columns instead of 14)\n    Line #857 (got 15 columns instead of 14)\n    Line #858 (got 15 columns instead of 14)\n    Line #859 (got 15 columns instead of 14)\n    Line #860 (got 15 columns instead of 14)\n    Line #861 (got 15 columns instead of 14)\n    Line #862 (got 15 columns instead of 14)\n    Line #863 (got 15 columns instead of 14)\n    Line #864 (got 15 columns instead of 14)\n    Line #865 (got 15 columns instead of 14)\n    Line #866 (got 15 columns instead of 14)\n    Line #867 (got 15 columns instead of 14)\n    Line #868 (got 15 columns instead of 14)\n    Line #869 (got 15 columns instead of 14)\n    Line #870 (got 15 columns instead of 14)\n    Line #871 (got 15 columns instead of 14)\n    Line #872 (got 15 columns instead of 14)\n    Line #873 (got 15 columns instead of 14)\n    Line #874 (got 15 columns instead of 14)\n    Line #875 (got 15 columns instead of 14)\n    Line #876 (got 15 columns instead of 14)\n    Line #877 (got 15 columns instead of 14)\n    Line #878 (got 15 columns instead of 14)\n    Line #879 (got 15 columns instead of 14)\n    Line #880 (got 15 columns instead of 14)\n    Line #881 (got 15 columns instead of 14)\n    Line #882 (got 15 columns instead of 14)\n    Line #883 (got 15 columns instead of 14)\n    Line #884 (got 15 columns instead of 14)\n    Line #885 (got 15 columns instead of 14)\n    Line #886 (got 15 columns instead of 14)\n    Line #887 (got 15 columns instead of 14)\n    Line #888 (got 15 columns instead of 14)\n    Line #889 (got 15 columns instead of 14)\n    Line #890 (got 15 columns instead of 14)\n    Line #891 (got 15 columns instead of 14)\n    Line #892 (got 15 columns instead of 14)\n    Line #893 (got 15 columns instead of 14)\n    Line #894 (got 15 columns instead of 14)\n    Line #895 (got 15 columns instead of 14)\n    Line #896 (got 15 columns instead of 14)\n    Line #897 (got 15 columns instead of 14)\n    Line #898 (got 15 columns instead of 14)\n    Line #899 (got 15 columns instead of 14)\n    Line #900 (got 15 columns instead of 14)\n    Line #901 (got 15 columns instead of 14)\n    Line #902 (got 15 columns instead of 14)\n    Line #903 (got 15 columns instead of 14)\n    Line #904 (got 15 columns instead of 14)\n    Line #905 (got 15 columns instead of 14)\n    Line #906 (got 15 columns instead of 14)\n    Line #907 (got 15 columns instead of 14)\n    Line #908 (got 15 columns instead of 14)\n    Line #909 (got 15 columns instead of 14)\n    Line #910 (got 15 columns instead of 14)\n    Line #911 (got 15 columns instead of 14)\n    Line #912 (got 15 columns instead of 14)\n    Line #913 (got 15 columns instead of 14)\n    Line #914 (got 15 columns instead of 14)\n    Line #915 (got 15 columns instead of 14)\n    Line #916 (got 15 columns instead of 14)\n    Line #917 (got 15 columns instead of 14)\n    Line #918 (got 15 columns instead of 14)\n    Line #919 (got 15 columns instead of 14)\n    Line #920 (got 15 columns instead of 14)\n    Line #921 (got 15 columns instead of 14)\n    Line #922 (got 15 columns instead of 14)\n    Line #923 (got 15 columns instead of 14)\n    Line #924 (got 15 columns instead of 14)\n    Line #925 (got 15 columns instead of 14)\n    Line #926 (got 15 columns instead of 14)\n    Line #927 (got 15 columns instead of 14)\n    Line #928 (got 15 columns instead of 14)\n    Line #929 (got 15 columns instead of 14)\n    Line #930 (got 15 columns instead of 14)\n    Line #931 (got 15 columns instead of 14)\n    Line #932 (got 15 columns instead of 14)\n    Line #933 (got 15 columns instead of 14)\n    Line #934 (got 15 columns instead of 14)\n    Line #935 (got 15 columns instead of 14)\n    Line #936 (got 15 columns instead of 14)\n    Line #937 (got 15 columns instead of 14)\n    Line #938 (got 15 columns instead of 14)\n    Line #939 (got 15 columns instead of 14)\n    Line #940 (got 15 columns instead of 14)\n    Line #941 (got 15 columns instead of 14)\n    Line #942 (got 15 columns instead of 14)\n    Line #943 (got 15 columns instead of 14)\n    Line #944 (got 15 columns instead of 14)\n    Line #945 (got 15 columns instead of 14)\n    Line #946 (got 15 columns instead of 14)\n    Line #947 (got 15 columns instead of 14)\n    Line #948 (got 15 columns instead of 14)\n    Line #949 (got 15 columns instead of 14)\n    Line #950 (got 15 columns instead of 14)\n    Line #951 (got 15 columns instead of 14)\n    Line #952 (got 15 columns instead of 14)\n    Line #953 (got 15 columns instead of 14)\n    Line #954 (got 15 columns instead of 14)\n    Line #955 (got 15 columns instead of 14)\n    Line #956 (got 15 columns instead of 14)\n    Line #957 (got 15 columns instead of 14)\n    Line #958 (got 15 columns instead of 14)\n    Line #959 (got 15 columns instead of 14)\n    Line #960 (got 15 columns instead of 14)\n    Line #961 (got 15 columns instead of 14)\n    Line #962 (got 15 columns instead of 14)\n    Line #963 (got 15 columns instead of 14)\n    Line #964 (got 15 columns instead of 14)\n    Line #965 (got 15 columns instead of 14)\n    Line #966 (got 15 columns instead of 14)\n    Line #967 (got 15 columns instead of 14)\n    Line #968 (got 15 columns instead of 14)\n    Line #969 (got 15 columns instead of 14)\n    Line #970 (got 15 columns instead of 14)\n    Line #971 (got 15 columns instead of 14)\n    Line #972 (got 15 columns instead of 14)\n    Line #973 (got 15 columns instead of 14)\n    Line #974 (got 15 columns instead of 14)\n    Line #975 (got 15 columns instead of 14)\n    Line #976 (got 15 columns instead of 14)\n    Line #977 (got 15 columns instead of 14)\n    Line #978 (got 15 columns instead of 14)\n    Line #979 (got 15 columns instead of 14)\n    Line #980 (got 15 columns instead of 14)\n    Line #981 (got 15 columns instead of 14)\n    Line #982 (got 15 columns instead of 14)\n    Line #983 (got 15 columns instead of 14)\n    Line #984 (got 15 columns instead of 14)\n    Line #985 (got 15 columns instead of 14)\n    Line #986 (got 15 columns instead of 14)\n    Line #987 (got 15 columns instead of 14)\n    Line #988 (got 15 columns instead of 14)\n    Line #989 (got 15 columns instead of 14)\n    Line #990 (got 15 columns instead of 14)\n    Line #991 (got 15 columns instead of 14)\n    Line #992 (got 15 columns instead of 14)\n    Line #993 (got 15 columns instead of 14)\n    Line #994 (got 15 columns instead of 14)\n    Line #995 (got 15 columns instead of 14)\n    Line #996 (got 15 columns instead of 14)\n    Line #997 (got 15 columns instead of 14)\n    Line #998 (got 15 columns instead of 14)\n    Line #999 (got 15 columns instead of 14)\n    Line #1000 (got 15 columns instead of 14)\n    Line #1001 (got 15 columns instead of 14)\n    Line #1002 (got 15 columns instead of 14)\n    Line #1003 (got 15 columns instead of 14)\n    Line #1004 (got 15 columns instead of 14)\n    Line #1005 (got 15 columns instead of 14)\n    Line #1006 (got 15 columns instead of 14)\n    Line #1007 (got 15 columns instead of 14)\n    Line #1008 (got 15 columns instead of 14)\n    Line #1009 (got 15 columns instead of 14)\n    Line #1010 (got 15 columns instead of 14)\n    Line #1011 (got 15 columns instead of 14)\n    Line #1012 (got 15 columns instead of 14)\n    Line #1013 (got 15 columns instead of 14)\n    Line #1014 (got 15 columns instead of 14)\n    Line #1015 (got 15 columns instead of 14)\n    Line #1016 (got 15 columns instead of 14)\n    Line #1017 (got 15 columns instead of 14)\n    Line #1018 (got 15 columns instead of 14)\n    Line #1019 (got 15 columns instead of 14)\n    Line #1020 (got 15 columns instead of 14)\n    Line #1021 (got 15 columns instead of 14)\n    Line #1022 (got 15 columns instead of 14)\n    Line #1023 (got 15 columns instead of 14)\n    Line #1024 (got 15 columns instead of 14)\n    Line #1025 (got 15 columns instead of 14)\n    Line #1026 (got 15 columns instead of 14)\n    Line #1027 (got 15 columns instead of 14)\n    Line #1028 (got 15 columns instead of 14)\n    Line #1029 (got 15 columns instead of 14)\n    Line #1030 (got 15 columns instead of 14)\n    Line #1031 (got 15 columns instead of 14)\n    Line #1032 (got 15 columns instead of 14)\n    Line #1033 (got 15 columns instead of 14)\n    Line #1034 (got 15 columns instead of 14)\n    Line #1035 (got 15 columns instead of 14)\n    Line #1036 (got 15 columns instead of 14)\n    Line #1037 (got 15 columns instead of 14)\n    Line #1038 (got 15 columns instead of 14)\n    Line #1039 (got 15 columns instead of 14)\n    Line #1040 (got 15 columns instead of 14)\n    Line #1041 (got 15 columns instead of 14)\n    Line #1042 (got 15 columns instead of 14)\n    Line #1043 (got 15 columns instead of 14)\n    Line #1044 (got 15 columns instead of 14)\n    Line #1045 (got 15 columns instead of 14)\n    Line #1046 (got 15 columns instead of 14)\n    Line #1047 (got 15 columns instead of 14)\n    Line #1048 (got 15 columns instead of 14)\n    Line #1049 (got 15 columns instead of 14)\n    Line #1050 (got 15 columns instead of 14)\n    Line #1051 (got 15 columns instead of 14)\n    Line #1052 (got 15 columns instead of 14)\n    Line #1053 (got 15 columns instead of 14)\n    Line #1054 (got 15 columns instead of 14)\n    Line #1055 (got 15 columns instead of 14)\n    Line #1056 (got 15 columns instead of 14)\n    Line #1057 (got 15 columns instead of 14)\n    Line #1058 (got 15 columns instead of 14)\n    Line #1059 (got 15 columns instead of 14)\n    Line #1060 (got 15 columns instead of 14)\n    Line #1061 (got 15 columns instead of 14)\n    Line #1062 (got 15 columns instead of 14)\n    Line #1063 (got 15 columns instead of 14)\n    Line #1064 (got 15 columns instead of 14)\n    Line #1065 (got 15 columns instead of 14)\n    Line #1066 (got 15 columns instead of 14)\n    Line #1067 (got 15 columns instead of 14)\n    Line #1068 (got 16 columns instead of 14)\n    Line #1069 (got 15 columns instead of 14)\n    Line #1070 (got 15 columns instead of 14)\n    Line #1071 (got 15 columns instead of 14)\n    Line #1072 (got 15 columns instead of 14)\n    Line #1073 (got 15 columns instead of 14)\n    Line #1074 (got 15 columns instead of 14)\n    Line #1075 (got 15 columns instead of 14)\n    Line #1076 (got 15 columns instead of 14)\n    Line #1077 (got 15 columns instead of 14)\n    Line #1078 (got 15 columns instead of 14)\n    Line #1079 (got 15 columns instead of 14)\n    Line #1080 (got 15 columns instead of 14)\n    Line #1081 (got 15 columns instead of 14)\n    Line #1082 (got 15 columns instead of 14)\n    Line #1083 (got 15 columns instead of 14)\n    Line #1084 (got 15 columns instead of 14)\n    Line #1085 (got 15 columns instead of 14)\n    Line #1086 (got 15 columns instead of 14)\n    Line #1087 (got 15 columns instead of 14)\n    Line #1088 (got 15 columns instead of 14)\n    Line #1089 (got 15 columns instead of 14)\n    Line #1090 (got 15 columns instead of 14)\n    Line #1091 (got 15 columns instead of 14)\n    Line #1092 (got 15 columns instead of 14)\n    Line #1093 (got 15 columns instead of 14)\n    Line #1094 (got 17 columns instead of 14)\n    Line #1095 (got 15 columns instead of 14)\n    Line #1096 (got 15 columns instead of 14)\n    Line #1097 (got 15 columns instead of 14)\n    Line #1098 (got 15 columns instead of 14)\n    Line #1099 (got 15 columns instead of 14)\n    Line #1100 (got 15 columns instead of 14)\n    Line #1101 (got 15 columns instead of 14)\n    Line #1102 (got 15 columns instead of 14)\n    Line #1103 (got 15 columns instead of 14)\n    Line #1104 (got 15 columns instead of 14)\n    Line #1105 (got 15 columns instead of 14)\n    Line #1106 (got 15 columns instead of 14)\n    Line #1107 (got 15 columns instead of 14)\n    Line #1108 (got 15 columns instead of 14)\n    Line #1109 (got 15 columns instead of 14)\n    Line #1110 (got 15 columns instead of 14)\n    Line #1111 (got 15 columns instead of 14)\n    Line #1112 (got 15 columns instead of 14)\n    Line #1113 (got 15 columns instead of 14)\n    Line #1114 (got 15 columns instead of 14)\n    Line #1115 (got 15 columns instead of 14)\n    Line #1116 (got 15 columns instead of 14)\n    Line #1117 (got 15 columns instead of 14)\n    Line #1118 (got 15 columns instead of 14)\n    Line #1119 (got 15 columns instead of 14)\n    Line #1120 (got 15 columns instead of 14)\n    Line #1121 (got 15 columns instead of 14)\n    Line #1122 (got 15 columns instead of 14)\n    Line #1123 (got 15 columns instead of 14)\n    Line #1124 (got 15 columns instead of 14)\n    Line #1125 (got 15 columns instead of 14)\n    Line #1126 (got 15 columns instead of 14)\n    Line #1127 (got 15 columns instead of 14)\n    Line #1128 (got 15 columns instead of 14)\n    Line #1129 (got 15 columns instead of 14)\n    Line #1130 (got 15 columns instead of 14)\n    Line #1131 (got 15 columns instead of 14)\n    Line #1132 (got 15 columns instead of 14)\n    Line #1133 (got 15 columns instead of 14)\n    Line #1134 (got 15 columns instead of 14)\n    Line #1135 (got 15 columns instead of 14)\n    Line #1136 (got 15 columns instead of 14)\n    Line #1137 (got 15 columns instead of 14)\n    Line #1138 (got 15 columns instead of 14)\n    Line #1139 (got 15 columns instead of 14)\n    Line #1140 (got 15 columns instead of 14)\n    Line #1141 (got 15 columns instead of 14)\n    Line #1142 (got 15 columns instead of 14)\n    Line #1143 (got 15 columns instead of 14)\n    Line #1144 (got 15 columns instead of 14)\n    Line #1145 (got 15 columns instead of 14)\n    Line #1146 (got 15 columns instead of 14)\n    Line #1147 (got 15 columns instead of 14)\n    Line #1148 (got 15 columns instead of 14)\n    Line #1149 (got 15 columns instead of 14)\n    Line #1150 (got 15 columns instead of 14)\n    Line #1151 (got 15 columns instead of 14)\n    Line #1152 (got 15 columns instead of 14)\n    Line #1153 (got 15 columns instead of 14)\n    Line #1154 (got 15 columns instead of 14)\n    Line #1155 (got 15 columns instead of 14)\n    Line #1156 (got 15 columns instead of 14)\n    Line #1157 (got 15 columns instead of 14)\n    Line #1158 (got 15 columns instead of 14)\n    Line #1159 (got 15 columns instead of 14)\n    Line #1160 (got 15 columns instead of 14)\n    Line #1161 (got 15 columns instead of 14)\n    Line #1162 (got 15 columns instead of 14)\n    Line #1163 (got 15 columns instead of 14)\n    Line #1164 (got 15 columns instead of 14)\n    Line #1165 (got 15 columns instead of 14)\n    Line #1166 (got 15 columns instead of 14)\n    Line #1167 (got 15 columns instead of 14)\n    Line #1168 (got 15 columns instead of 14)\n    Line #1169 (got 15 columns instead of 14)\n    Line #1170 (got 15 columns instead of 14)\n    Line #1171 (got 15 columns instead of 14)\n    Line #1172 (got 15 columns instead of 14)\n    Line #1173 (got 15 columns instead of 14)\n    Line #1174 (got 15 columns instead of 14)\n    Line #1175 (got 15 columns instead of 14)\n    Line #1176 (got 15 columns instead of 14)\n    Line #1177 (got 15 columns instead of 14)\n    Line #1178 (got 15 columns instead of 14)\n    Line #1179 (got 15 columns instead of 14)\n    Line #1180 (got 15 columns instead of 14)\n    Line #1181 (got 15 columns instead of 14)\n    Line #1182 (got 15 columns instead of 14)\n    Line #1183 (got 15 columns instead of 14)\n    Line #1184 (got 15 columns instead of 14)\n    Line #1185 (got 15 columns instead of 14)\n    Line #1186 (got 15 columns instead of 14)\n    Line #1187 (got 15 columns instead of 14)\n    Line #1188 (got 15 columns instead of 14)\n    Line #1189 (got 15 columns instead of 14)\n    Line #1190 (got 15 columns instead of 14)\n    Line #1191 (got 15 columns instead of 14)\n    Line #1192 (got 15 columns instead of 14)\n    Line #1193 (got 15 columns instead of 14)\n    Line #1194 (got 15 columns instead of 14)\n    Line #1195 (got 15 columns instead of 14)\n    Line #1196 (got 15 columns instead of 14)\n    Line #1197 (got 15 columns instead of 14)\n    Line #1198 (got 15 columns instead of 14)\n    Line #1199 (got 15 columns instead of 14)\n    Line #1200 (got 15 columns instead of 14)\n    Line #1201 (got 15 columns instead of 14)\n    Line #1202 (got 15 columns instead of 14)\n    Line #1203 (got 15 columns instead of 14)\n    Line #1204 (got 15 columns instead of 14)\n    Line #1205 (got 15 columns instead of 14)\n    Line #1206 (got 15 columns instead of 14)\n    Line #1207 (got 15 columns instead of 14)\n    Line #1208 (got 15 columns instead of 14)\n    Line #1209 (got 15 columns instead of 14)\n    Line #1210 (got 15 columns instead of 14)\n    Line #1211 (got 15 columns instead of 14)\n    Line #1212 (got 15 columns instead of 14)\n    Line #1213 (got 15 columns instead of 14)\n    Line #1214 (got 15 columns instead of 14)\n    Line #1215 (got 15 columns instead of 14)\n    Line #1216 (got 15 columns instead of 14)\n    Line #1217 (got 15 columns instead of 14)\n    Line #1218 (got 15 columns instead of 14)\n    Line #1219 (got 15 columns instead of 14)\n    Line #1220 (got 15 columns instead of 14)\n    Line #1221 (got 15 columns instead of 14)\n    Line #1222 (got 15 columns instead of 14)\n    Line #1223 (got 15 columns instead of 14)\n    Line #1224 (got 15 columns instead of 14)\n    Line #1225 (got 15 columns instead of 14)\n    Line #1226 (got 15 columns instead of 14)\n    Line #1227 (got 15 columns instead of 14)\n    Line #1228 (got 15 columns instead of 14)\n    Line #1229 (got 15 columns instead of 14)\n    Line #1230 (got 15 columns instead of 14)\n    Line #1231 (got 15 columns instead of 14)\n    Line #1232 (got 15 columns instead of 14)\n    Line #1233 (got 15 columns instead of 14)\n    Line #1234 (got 15 columns instead of 14)\n    Line #1235 (got 15 columns instead of 14)\n    Line #1236 (got 15 columns instead of 14)\n    Line #1237 (got 15 columns instead of 14)\n    Line #1238 (got 15 columns instead of 14)\n    Line #1239 (got 15 columns instead of 14)\n    Line #1240 (got 15 columns instead of 14)\n    Line #1241 (got 15 columns instead of 14)\n    Line #1242 (got 15 columns instead of 14)\n    Line #1243 (got 15 columns instead of 14)\n    Line #1244 (got 15 columns instead of 14)\n    Line #1245 (got 15 columns instead of 14)\n    Line #1246 (got 15 columns instead of 14)\n    Line #1247 (got 15 columns instead of 14)\n    Line #1248 (got 15 columns instead of 14)\n    Line #1249 (got 15 columns instead of 14)\n    Line #1250 (got 15 columns instead of 14)\n    Line #1251 (got 15 columns instead of 14)\n    Line #1252 (got 15 columns instead of 14)\n    Line #1253 (got 15 columns instead of 14)\n    Line #1254 (got 15 columns instead of 14)\n    Line #1255 (got 15 columns instead of 14)\n    Line #1256 (got 15 columns instead of 14)\n    Line #1257 (got 15 columns instead of 14)\n    Line #1258 (got 15 columns instead of 14)\n    Line #1259 (got 15 columns instead of 14)\n    Line #1260 (got 15 columns instead of 14)\n    Line #1261 (got 15 columns instead of 14)\n    Line #1262 (got 15 columns instead of 14)\n    Line #1263 (got 15 columns instead of 14)\n    Line #1264 (got 15 columns instead of 14)\n    Line #1265 (got 15 columns instead of 14)\n    Line #1266 (got 15 columns instead of 14)\n    Line #1267 (got 15 columns instead of 14)\n    Line #1268 (got 15 columns instead of 14)\n    Line #1269 (got 15 columns instead of 14)\n    Line #1270 (got 15 columns instead of 14)\n    Line #1271 (got 15 columns instead of 14)\n    Line #1272 (got 15 columns instead of 14)\n    Line #1273 (got 15 columns instead of 14)\n    Line #1274 (got 15 columns instead of 14)\n    Line #1275 (got 15 columns instead of 14)\n    Line #1276 (got 15 columns instead of 14)\n    Line #1277 (got 15 columns instead of 14)\n    Line #1278 (got 15 columns instead of 14)\n    Line #1279 (got 15 columns instead of 14)\n    Line #1280 (got 15 columns instead of 14)\n    Line #1281 (got 15 columns instead of 14)\n    Line #1282 (got 15 columns instead of 14)\n    Line #1283 (got 15 columns instead of 14)\n    Line #1284 (got 15 columns instead of 14)\n    Line #1285 (got 15 columns instead of 14)\n    Line #1286 (got 17 columns instead of 14)\n    Line #1287 (got 15 columns instead of 14)\n    Line #1288 (got 15 columns instead of 14)\n    Line #1289 (got 15 columns instead of 14)\n    Line #1290 (got 15 columns instead of 14)\n    Line #1291 (got 15 columns instead of 14)\n    Line #1292 (got 15 columns instead of 14)\n    Line #1293 (got 15 columns instead of 14)\n    Line #1294 (got 15 columns instead of 14)\n    Line #1295 (got 15 columns instead of 14)\n    Line #1296 (got 15 columns instead of 14)\n    Line #1297 (got 15 columns instead of 14)\n    Line #1298 (got 15 columns instead of 14)\n    Line #1299 (got 15 columns instead of 14)\n    Line #1300 (got 15 columns instead of 14)\n    Line #1301 (got 15 columns instead of 14)\n    Line #1302 (got 15 columns instead of 14)\n    Line #1303 (got 15 columns instead of 14)\n    Line #1304 (got 15 columns instead of 14)\n    Line #1305 (got 15 columns instead of 14)\n    Line #1306 (got 15 columns instead of 14)\n    Line #1307 (got 15 columns instead of 14)\n    Line #1308 (got 15 columns instead of 14)\n    Line #1309 (got 15 columns instead of 14)\n    Line #1310 (got 15 columns instead of 14)\n    Line #1311 (got 15 columns instead of 14)\n    Line #1312 (got 15 columns instead of 14)\n    Line #1313 (got 15 columns instead of 14)",
          "output_type": "error",
          "traceback": [
            "\u001b[0;31m---------------------------------------------------------------------------\u001b[0m",
            "\u001b[0;31mValueError\u001b[0m                                Traceback (most recent call last)",
            "\u001b[0;32m<ipython-input-2-c69eb9215fc1>\u001b[0m in \u001b[0;36m<module>\u001b[0;34m\u001b[0m\n\u001b[0;32m----> 1\u001b[0;31m \u001b[0mdataset\u001b[0m \u001b[0;34m=\u001b[0m \u001b[0mnp\u001b[0m\u001b[0;34m.\u001b[0m\u001b[0mgenfromtxt\u001b[0m\u001b[0;34m(\u001b[0m\u001b[0;34m'DATA_01_titanic_with_duplicites.csv'\u001b[0m\u001b[0;34m,\u001b[0m \u001b[0mdelimiter\u001b[0m\u001b[0;34m=\u001b[0m\u001b[0;34m','\u001b[0m\u001b[0;34m)\u001b[0m\u001b[0;34m\u001b[0m\u001b[0;34m\u001b[0m\u001b[0m\n\u001b[0m",
            "\u001b[0;32m/srv/conda/envs/notebook/lib/python3.6/site-packages/numpy/lib/npyio.py\u001b[0m in \u001b[0;36mgenfromtxt\u001b[0;34m(fname, dtype, comments, delimiter, skip_header, skip_footer, converters, missing_values, filling_values, usecols, names, excludelist, deletechars, replace_space, autostrip, case_sensitive, defaultfmt, unpack, usemask, loose, invalid_raise, max_rows, encoding)\u001b[0m\n\u001b[1;32m   2078\u001b[0m             \u001b[0;31m# Raise an exception ?\u001b[0m\u001b[0;34m\u001b[0m\u001b[0;34m\u001b[0m\u001b[0;34m\u001b[0m\u001b[0m\n\u001b[1;32m   2079\u001b[0m             \u001b[0;32mif\u001b[0m \u001b[0minvalid_raise\u001b[0m\u001b[0;34m:\u001b[0m\u001b[0;34m\u001b[0m\u001b[0;34m\u001b[0m\u001b[0m\n\u001b[0;32m-> 2080\u001b[0;31m                 \u001b[0;32mraise\u001b[0m \u001b[0mValueError\u001b[0m\u001b[0;34m(\u001b[0m\u001b[0merrmsg\u001b[0m\u001b[0;34m)\u001b[0m\u001b[0;34m\u001b[0m\u001b[0;34m\u001b[0m\u001b[0m\n\u001b[0m\u001b[1;32m   2081\u001b[0m             \u001b[0;31m# Issue a warning ?\u001b[0m\u001b[0;34m\u001b[0m\u001b[0;34m\u001b[0m\u001b[0;34m\u001b[0m\u001b[0m\n\u001b[1;32m   2082\u001b[0m             \u001b[0;32melse\u001b[0m\u001b[0;34m:\u001b[0m\u001b[0;34m\u001b[0m\u001b[0;34m\u001b[0m\u001b[0m\n",
            "\u001b[0;31mValueError\u001b[0m: Some errors were detected !\n    Line #2 (got 16 columns instead of 14)\n    Line #3 (got 17 columns instead of 14)\n    Line #4 (got 17 columns instead of 14)\n    Line #5 (got 17 columns instead of 14)\n    Line #6 (got 17 columns instead of 14)\n    Line #7 (got 16 columns instead of 14)\n    Line #8 (got 16 columns instead of 14)\n    Line #9 (got 16 columns instead of 14)\n    Line #10 (got 17 columns instead of 14)\n    Line #11 (got 16 columns instead of 14)\n    Line #12 (got 16 columns instead of 14)\n    Line #13 (got 16 columns instead of 14)\n    Line #14 (got 16 columns instead of 14)\n    Line #15 (got 15 columns instead of 14)\n    Line #16 (got 16 columns instead of 14)\n    Line #17 (got 16 columns instead of 14)\n    Line #18 (got 16 columns instead of 14)\n    Line #19 (got 16 columns instead of 14)\n    Line #20 (got 15 columns instead of 14)\n    Line #21 (got 16 columns instead of 14)\n    Line #22 (got 16 columns instead of 14)\n    Line #23 (got 16 columns instead of 14)\n    Line #24 (got 16 columns instead of 14)\n    Line #25 (got 15 columns instead of 14)\n    Line #26 (got 15 columns instead of 14)\n    Line #27 (got 16 columns instead of 14)\n    Line #28 (got 16 columns instead of 14)\n    Line #29 (got 16 columns instead of 14)\n    Line #30 (got 15 columns instead of 14)\n    Line #31 (got 17 columns instead of 14)\n    Line #32 (got 16 columns instead of 14)\n    Line #33 (got 16 columns instead of 14)\n    Line #34 (got 16 columns instead of 14)\n    Line #35 (got 17 columns instead of 14)\n    Line #36 (got 16 columns instead of 14)\n    Line #37 (got 16 columns instead of 14)\n    Line #38 (got 16 columns instead of 14)\n    Line #39 (got 16 columns instead of 14)\n    Line #40 (got 16 columns instead of 14)\n    Line #41 (got 16 columns instead of 14)\n    Line #42 (got 16 columns instead of 14)\n    Line #43 (got 16 columns instead of 14)\n    Line #44 (got 16 columns instead of 14)\n    Line #45 (got 16 columns instead of 14)\n    Line #46 (got 15 columns instead of 14)\n    Line #47 (got 16 columns instead of 14)\n    Line #48 (got 15 columns instead of 14)\n    Line #49 (got 16 columns instead of 14)\n    Line #50 (got 16 columns instead of 14)\n    Line #51 (got 17 columns instead of 14)\n    Line #52 (got 17 columns instead of 14)\n    Line #53 (got 16 columns instead of 14)\n    Line #54 (got 16 columns instead of 14)\n    Line #55 (got 16 columns instead of 14)\n    Line #56 (got 16 columns instead of 14)\n    Line #57 (got 16 columns instead of 14)\n    Line #58 (got 16 columns instead of 14)\n    Line #59 (got 16 columns instead of 14)\n    Line #60 (got 17 columns instead of 14)\n    Line #61 (got 16 columns instead of 14)\n    Line #62 (got 16 columns instead of 14)\n    Line #63 (got 16 columns instead of 14)\n    Line #64 (got 16 columns instead of 14)\n    Line #65 (got 16 columns instead of 14)\n    Line #66 (got 17 columns instead of 14)\n    Line #67 (got 17 columns instead of 14)\n    Line #68 (got 15 columns instead of 14)\n    Line #69 (got 16 columns instead of 14)\n    Line #70 (got 16 columns instead of 14)\n    Line #71 (got 16 columns instead of 14)\n    Line #72 (got 16 columns instead of 14)\n    Line #73 (got 16 columns instead of 14)\n    Line #74 (got 16 columns instead of 14)\n    Line #75 (got 15 columns instead of 14)\n    Line #76 (got 16 columns instead of 14)\n    Line #77 (got 16 columns instead of 14)\n    Line #78 (got 16 columns instead of 14)\n    Line #79 (got 16 columns instead of 14)\n    Line #80 (got 16 columns instead of 14)\n    Line #81 (got 16 columns instead of 14)\n    Line #82 (got 16 columns instead of 14)\n    Line #83 (got 16 columns instead of 14)\n    Line #84 (got 16 columns instead of 14)\n    Line #85 (got 16 columns instead of 14)\n    Line #86 (got 16 columns instead of 14)\n    Line #87 (got 16 columns instead of 14)\n    Line #88 (got 16 columns instead of 14)\n    Line #89 (got 16 columns instead of 14)\n    Line #90 (got 15 columns instead of 14)\n    Line #91 (got 16 columns instead of 14)\n    Line #92 (got 16 columns instead of 14)\n    Line #93 (got 16 columns instead of 14)\n    Line #94 (got 16 columns instead of 14)\n    Line #95 (got 16 columns instead of 14)\n    Line #96 (got 16 columns instead of 14)\n    Line #97 (got 16 columns instead of 14)\n    Line #98 (got 17 columns instead of 14)\n    Line #99 (got 16 columns instead of 14)\n    Line #100 (got 17 columns instead of 14)\n    Line #101 (got 15 columns instead of 14)\n    Line #102 (got 15 columns instead of 14)\n    Line #103 (got 16 columns instead of 14)\n    Line #104 (got 17 columns instead of 14)\n    Line #105 (got 16 columns instead of 14)\n    Line #106 (got 16 columns instead of 14)\n    Line #107 (got 16 columns instead of 14)\n    Line #108 (got 15 columns instead of 14)\n    Line #109 (got 16 columns instead of 14)\n    Line #110 (got 15 columns instead of 14)\n    Line #111 (got 16 columns instead of 14)\n    Line #112 (got 16 columns instead of 14)\n    Line #113 (got 16 columns instead of 14)\n    Line #114 (got 16 columns instead of 14)\n    Line #115 (got 16 columns instead of 14)\n    Line #116 (got 16 columns instead of 14)\n    Line #117 (got 16 columns instead of 14)\n    Line #118 (got 16 columns instead of 14)\n    Line #119 (got 15 columns instead of 14)\n    Line #120 (got 16 columns instead of 14)\n    Line #121 (got 16 columns instead of 14)\n    Line #122 (got 16 columns instead of 14)\n    Line #123 (got 16 columns instead of 14)\n    Line #124 (got 16 columns instead of 14)\n    Line #125 (got 16 columns instead of 14)\n    Line #126 (got 16 columns instead of 14)\n    Line #127 (got 15 columns instead of 14)\n    Line #128 (got 16 columns instead of 14)\n    Line #129 (got 16 columns instead of 14)\n    Line #130 (got 16 columns instead of 14)\n    Line #131 (got 15 columns instead of 14)\n    Line #132 (got 16 columns instead of 14)\n    Line #133 (got 16 columns instead of 14)\n    Line #134 (got 15 columns instead of 14)\n    Line #135 (got 17 columns instead of 14)\n    Line #136 (got 17 columns instead of 14)\n    Line #137 (got 16 columns instead of 14)\n    Line #138 (got 16 columns instead of 14)\n    Line #139 (got 16 columns instead of 14)\n    Line #140 (got 16 columns instead of 14)\n    Line #141 (got 16 columns instead of 14)\n    Line #142 (got 16 columns instead of 14)\n    Line #143 (got 16 columns instead of 14)\n    Line #144 (got 16 columns instead of 14)\n    Line #145 (got 16 columns instead of 14)\n    Line #146 (got 16 columns instead of 14)\n    Line #147 (got 16 columns instead of 14)\n    Line #148 (got 16 columns instead of 14)\n    Line #149 (got 15 columns instead of 14)\n    Line #150 (got 16 columns instead of 14)\n    Line #151 (got 16 columns instead of 14)\n    Line #152 (got 15 columns instead of 14)\n    Line #153 (got 15 columns instead of 14)\n    Line #154 (got 16 columns instead of 14)\n    Line #155 (got 16 columns instead of 14)\n    Line #156 (got 16 columns instead of 14)\n    Line #157 (got 16 columns instead of 14)\n    Line #158 (got 15 columns instead of 14)\n    Line #159 (got 16 columns instead of 14)\n    Line #160 (got 15 columns instead of 14)\n    Line #161 (got 16 columns instead of 14)\n    Line #162 (got 16 columns instead of 14)\n    Line #163 (got 16 columns instead of 14)\n    Line #164 (got 16 columns instead of 14)\n    Line #165 (got 16 columns instead of 14)\n    Line #166 (got 16 columns instead of 14)\n    Line #167 (got 16 columns instead of 14)\n    Line #168 (got 16 columns instead of 14)\n    Line #169 (got 16 columns instead of 14)\n    Line #170 (got 15 columns instead of 14)\n    Line #171 (got 17 columns instead of 14)\n    Line #172 (got 15 columns instead of 14)\n    Line #173 (got 16 columns instead of 14)\n    Line #174 (got 15 columns instead of 14)\n    Line #175 (got 15 columns instead of 14)\n    Line #176 (got 16 columns instead of 14)\n    Line #177 (got 16 columns instead of 14)\n    Line #178 (got 16 columns instead of 14)\n    Line #179 (got 16 columns instead of 14)\n    Line #180 (got 16 columns instead of 14)\n    Line #181 (got 16 columns instead of 14)\n    Line #182 (got 15 columns instead of 14)\n    Line #183 (got 16 columns instead of 14)\n    Line #184 (got 15 columns instead of 14)\n    Line #185 (got 15 columns instead of 14)\n    Line #186 (got 16 columns instead of 14)\n    Line #187 (got 16 columns instead of 14)\n    Line #188 (got 16 columns instead of 14)\n    Line #189 (got 16 columns instead of 14)\n    Line #190 (got 16 columns instead of 14)\n    Line #191 (got 16 columns instead of 14)\n    Line #192 (got 16 columns instead of 14)\n    Line #193 (got 16 columns instead of 14)\n    Line #194 (got 15 columns instead of 14)\n    Line #195 (got 16 columns instead of 14)\n    Line #196 (got 16 columns instead of 14)\n    Line #197 (got 15 columns instead of 14)\n    Line #198 (got 16 columns instead of 14)\n    Line #199 (got 16 columns instead of 14)\n    Line #200 (got 16 columns instead of 14)\n    Line #201 (got 16 columns instead of 14)\n    Line #202 (got 16 columns instead of 14)\n    Line #203 (got 16 columns instead of 14)\n    Line #204 (got 16 columns instead of 14)\n    Line #205 (got 16 columns instead of 14)\n    Line #206 (got 16 columns instead of 14)\n    Line #207 (got 16 columns instead of 14)\n    Line #208 (got 16 columns instead of 14)\n    Line #209 (got 16 columns instead of 14)\n    Line #210 (got 16 columns instead of 14)\n    Line #211 (got 16 columns instead of 14)\n    Line #212 (got 16 columns instead of 14)\n    Line #213 (got 16 columns instead of 14)\n    Line #214 (got 16 columns instead of 14)\n    Line #215 (got 16 columns instead of 14)\n    Line #216 (got 16 columns instead of 14)\n    Line #217 (got 16 columns instead of 14)\n    Line #218 (got 16 columns instead of 14)\n    Line #219 (got 16 columns instead of 14)\n    Line #220 (got 15 columns instead of 14)\n    Line #221 (got 16 columns instead of 14)\n    Line #222 (got 16 columns instead of 14)\n    Line #223 (got 16 columns instead of 14)\n    Line #224 (got 16 columns instead of 14)\n    Line #225 (got 15 columns instead of 14)\n    Line #226 (got 16 columns instead of 14)\n    Line #227 (got 16 columns instead of 14)\n    Line #228 (got 16 columns instead of 14)\n    Line #229 (got 16 columns instead of 14)\n    Line #230 (got 16 columns instead of 14)\n    Line #231 (got 16 columns instead of 14)\n    Line #232 (got 15 columns instead of 14)\n    Line #233 (got 16 columns instead of 14)\n    Line #234 (got 16 columns instead of 14)\n    Line #235 (got 17 columns instead of 14)\n    Line #236 (got 16 columns instead of 14)\n    Line #237 (got 16 columns instead of 14)\n    Line #238 (got 15 columns instead of 14)\n    Line #239 (got 15 columns instead of 14)\n    Line #240 (got 16 columns instead of 14)\n    Line #241 (got 16 columns instead of 14)\n    Line #242 (got 16 columns instead of 14)\n    Line #243 (got 16 columns instead of 14)\n    Line #244 (got 16 columns instead of 14)\n    Line #245 (got 16 columns instead of 14)\n    Line #246 (got 16 columns instead of 14)\n    Line #247 (got 16 columns instead of 14)\n    Line #248 (got 16 columns instead of 14)\n    Line #249 (got 16 columns instead of 14)\n    Line #250 (got 15 columns instead of 14)\n    Line #251 (got 17 columns instead of 14)\n    Line #252 (got 17 columns instead of 14)\n    Line #253 (got 17 columns instead of 14)\n    Line #254 (got 17 columns instead of 14)\n    Line #255 (got 17 columns instead of 14)\n    Line #256 (got 16 columns instead of 14)\n    Line #257 (got 15 columns instead of 14)\n    Line #258 (got 16 columns instead of 14)\n    Line #259 (got 16 columns instead of 14)\n    Line #260 (got 15 columns instead of 14)\n    Line #261 (got 16 columns instead of 14)\n    Line #262 (got 16 columns instead of 14)\n    Line #263 (got 16 columns instead of 14)\n    Line #264 (got 16 columns instead of 14)\n    Line #265 (got 16 columns instead of 14)\n    Line #266 (got 16 columns instead of 14)\n    Line #267 (got 16 columns instead of 14)\n    Line #268 (got 16 columns instead of 14)\n    Line #269 (got 17 columns instead of 14)\n    Line #270 (got 16 columns instead of 14)\n    Line #271 (got 16 columns instead of 14)\n    Line #272 (got 16 columns instead of 14)\n    Line #273 (got 16 columns instead of 14)\n    Line #274 (got 16 columns instead of 14)\n    Line #275 (got 16 columns instead of 14)\n    Line #276 (got 16 columns instead of 14)\n    Line #277 (got 16 columns instead of 14)\n    Line #278 (got 16 columns instead of 14)\n    Line #279 (got 16 columns instead of 14)\n    Line #280 (got 16 columns instead of 14)\n    Line #281 (got 17 columns instead of 14)\n    Line #282 (got 16 columns instead of 14)\n    Line #283 (got 16 columns instead of 14)\n    Line #284 (got 16 columns instead of 14)\n    Line #285 (got 16 columns instead of 14)\n    Line #286 (got 16 columns instead of 14)\n    Line #287 (got 16 columns instead of 14)\n    Line #288 (got 16 columns instead of 14)\n    Line #289 (got 16 columns instead of 14)\n    Line #290 (got 16 columns instead of 14)\n    Line #291 (got 16 columns instead of 14)\n    Line #292 (got 16 columns instead of 14)\n    Line #293 (got 16 columns instead of 14)\n    Line #294 (got 16 columns instead of 14)\n    Line #295 (got 16 columns instead of 14)\n    Line #296 (got 16 columns instead of 14)\n    Line #297 (got 16 columns instead of 14)\n    Line #298 (got 16 columns instead of 14)\n    Line #299 (got 16 columns instead of 14)\n    Line #300 (got 16 columns instead of 14)\n    Line #301 (got 16 columns instead of 14)\n    Line #302 (got 16 columns instead of 14)\n    Line #303 (got 16 columns instead of 14)\n    Line #304 (got 15 columns instead of 14)\n    Line #305 (got 16 columns instead of 14)\n    Line #306 (got 16 columns instead of 14)\n    Line #307 (got 16 columns instead of 14)\n    Line #308 (got 16 columns instead of 14)\n    Line #309 (got 16 columns instead of 14)\n    Line #310 (got 16 columns instead of 14)\n    Line #311 (got 16 columns instead of 14)\n    Line #312 (got 16 columns instead of 14)\n    Line #313 (got 16 columns instead of 14)\n    Line #314 (got 16 columns instead of 14)\n    Line #315 (got 16 columns instead of 14)\n    Line #316 (got 16 columns instead of 14)\n    Line #317 (got 16 columns instead of 14)\n    Line #318 (got 16 columns instead of 14)\n    Line #319 (got 17 columns instead of 14)\n    Line #320 (got 17 columns instead of 14)\n    Line #321 (got 16 columns instead of 14)\n    Line #322 (got 15 columns instead of 14)\n    Line #323 (got 16 columns instead of 14)\n    Line #324 (got 16 columns instead of 14)\n    Line #325 (got 17 columns instead of 14)\n    Line #326 (got 16 columns instead of 14)\n    Line #327 (got 16 columns instead of 14)\n    Line #328 (got 17 columns instead of 14)\n    Line #329 (got 17 columns instead of 14)\n    Line #330 (got 17 columns instead of 14)\n    Line #331 (got 16 columns instead of 14)\n    Line #332 (got 16 columns instead of 14)\n    Line #333 (got 16 columns instead of 14)\n    Line #334 (got 17 columns instead of 14)\n    Line #335 (got 15 columns instead of 14)\n    Line #336 (got 17 columns instead of 14)\n    Line #337 (got 17 columns instead of 14)\n    Line #338 (got 16 columns instead of 14)\n    Line #339 (got 16 columns instead of 14)\n    Line #340 (got 16 columns instead of 14)\n    Line #341 (got 15 columns instead of 14)\n    Line #342 (got 17 columns instead of 14)\n    Line #343 (got 17 columns instead of 14)\n    Line #344 (got 17 columns instead of 14)\n    Line #345 (got 17 columns instead of 14)\n    Line #346 (got 15 columns instead of 14)\n    Line #347 (got 16 columns instead of 14)\n    Line #348 (got 17 columns instead of 14)\n    Line #349 (got 17 columns instead of 14)\n    Line #350 (got 15 columns instead of 14)\n    Line #351 (got 17 columns instead of 14)\n    Line #352 (got 16 columns instead of 14)\n    Line #353 (got 17 columns instead of 14)\n    Line #354 (got 16 columns instead of 14)\n    Line #355 (got 16 columns instead of 14)\n    Line #356 (got 17 columns instead of 14)\n    Line #357 (got 17 columns instead of 14)\n    Line #358 (got 17 columns instead of 14)\n    Line #359 (got 17 columns instead of 14)\n    Line #360 (got 17 columns instead of 14)\n    Line #361 (got 16 columns instead of 14)\n    Line #362 (got 15 columns instead of 14)\n    Line #363 (got 16 columns instead of 14)\n    Line #364 (got 17 columns instead of 14)\n    Line #365 (got 17 columns instead of 14)\n    Line #366 (got 17 columns instead of 14)\n    Line #367 (got 16 columns instead of 14)\n    Line #368 (got 15 columns instead of 14)\n    Line #369 (got 17 columns instead of 14)\n    Line #370 (got 15 columns instead of 14)\n    Line #371 (got 15 columns instead of 14)\n    Line #372 (got 16 columns instead of 14)\n    Line #373 (got 16 columns instead of 14)\n    Line #374 (got 16 columns instead of 14)\n    Line #375 (got 15 columns instead of 14)\n    Line #376 (got 15 columns instead of 14)\n    Line #377 (got 16 columns instead of 14)\n    Line #378 (got 16 columns instead of 14)\n    Line #379 (got 16 columns instead of 14)\n    Line #380 (got 17 columns instead of 14)\n    Line #381 (got 16 columns instead of 14)\n    Line #382 (got 17 columns instead of 14)\n    Line #383 (got 17 columns instead of 14)\n    Line #384 (got 17 columns instead of 14)\n    Line #385 (got 15 columns instead of 14)\n    Line #386 (got 16 columns instead of 14)\n    Line #387 (got 17 columns instead of 14)\n    Line #388 (got 17 columns instead of 14)\n    Line #389 (got 15 columns instead of 14)\n    Line #390 (got 17 columns instead of 14)\n    Line #391 (got 16 columns instead of 14)\n    Line #392 (got 17 columns instead of 14)\n    Line #393 (got 16 columns instead of 14)\n    Line #394 (got 16 columns instead of 14)\n    Line #395 (got 15 columns instead of 14)\n    Line #396 (got 16 columns instead of 14)\n    Line #397 (got 16 columns instead of 14)\n    Line #398 (got 16 columns instead of 14)\n    Line #399 (got 16 columns instead of 14)\n    Line #400 (got 15 columns instead of 14)\n    Line #401 (got 15 columns instead of 14)\n    Line #402 (got 16 columns instead of 14)\n    Line #403 (got 16 columns instead of 14)\n    Line #404 (got 16 columns instead of 14)\n    Line #405 (got 16 columns instead of 14)\n    Line #406 (got 17 columns instead of 14)\n    Line #407 (got 17 columns instead of 14)\n    Line #408 (got 16 columns instead of 14)\n    Line #409 (got 17 columns instead of 14)\n    Line #410 (got 17 columns instead of 14)\n    Line #411 (got 16 columns instead of 14)\n    Line #412 (got 15 columns instead of 14)\n    Line #413 (got 16 columns instead of 14)\n    Line #414 (got 16 columns instead of 14)\n    Line #415 (got 15 columns instead of 14)\n    Line #416 (got 16 columns instead of 14)\n    Line #417 (got 16 columns instead of 14)\n    Line #418 (got 16 columns instead of 14)\n    Line #419 (got 16 columns instead of 14)\n    Line #420 (got 16 columns instead of 14)\n    Line #421 (got 16 columns instead of 14)\n    Line #422 (got 16 columns instead of 14)\n    Line #423 (got 15 columns instead of 14)\n    Line #424 (got 16 columns instead of 14)\n    Line #425 (got 16 columns instead of 14)\n    Line #426 (got 16 columns instead of 14)\n    Line #427 (got 16 columns instead of 14)\n    Line #428 (got 16 columns instead of 14)\n    Line #429 (got 15 columns instead of 14)\n    Line #430 (got 16 columns instead of 14)\n    Line #431 (got 16 columns instead of 14)\n    Line #432 (got 16 columns instead of 14)\n    Line #433 (got 16 columns instead of 14)\n    Line #434 (got 17 columns instead of 14)\n    Line #435 (got 16 columns instead of 14)\n    Line #436 (got 16 columns instead of 14)\n    Line #437 (got 15 columns instead of 14)\n    Line #438 (got 16 columns instead of 14)\n    Line #439 (got 17 columns instead of 14)\n    Line #440 (got 17 columns instead of 14)\n    Line #441 (got 17 columns instead of 14)\n    Line #442 (got 16 columns instead of 14)\n    Line #443 (got 16 columns instead of 14)\n    Line #444 (got 16 columns instead of 14)\n    Line #445 (got 16 columns instead of 14)\n    Line #446 (got 16 columns instead of 14)\n    Line #447 (got 17 columns instead of 14)\n    Line #448 (got 17 columns instead of 14)\n    Line #449 (got 17 columns instead of 14)\n    Line #450 (got 17 columns instead of 14)\n    Line #451 (got 16 columns instead of 14)\n    Line #452 (got 16 columns instead of 14)\n    Line #453 (got 16 columns instead of 14)\n    Line #454 (got 16 columns instead of 14)\n    Line #455 (got 15 columns instead of 14)\n    Line #456 (got 16 columns instead of 14)\n    Line #457 (got 16 columns instead of 14)\n    Line #458 (got 16 columns instead of 14)\n    Line #459 (got 16 columns instead of 14)\n    Line #460 (got 16 columns instead of 14)\n    Line #461 (got 16 columns instead of 14)\n    Line #462 (got 16 columns instead of 14)\n    Line #463 (got 15 columns instead of 14)\n    Line #464 (got 15 columns instead of 14)\n    Line #465 (got 15 columns instead of 14)\n    Line #466 (got 16 columns instead of 14)\n    Line #467 (got 16 columns instead of 14)\n    Line #468 (got 16 columns instead of 14)\n    Line #469 (got 17 columns instead of 14)\n    Line #470 (got 16 columns instead of 14)\n    Line #471 (got 16 columns instead of 14)\n    Line #472 (got 16 columns instead of 14)\n    Line #473 (got 16 columns instead of 14)\n    Line #474 (got 16 columns instead of 14)\n    Line #475 (got 15 columns instead of 14)\n    Line #476 (got 16 columns instead of 14)\n    Line #477 (got 16 columns instead of 14)\n    Line #478 (got 15 columns instead of 14)\n    Line #479 (got 16 columns instead of 14)\n    Line #480 (got 16 columns instead of 14)\n    Line #481 (got 16 columns instead of 14)\n    Line #482 (got 15 columns instead of 14)\n    Line #483 (got 15 columns instead of 14)\n    Line #484 (got 15 columns instead of 14)\n    Line #485 (got 15 columns instead of 14)\n    Line #486 (got 15 columns instead of 14)\n    Line #487 (got 17 columns instead of 14)\n    Line #488 (got 16 columns instead of 14)\n    Line #489 (got 16 columns instead of 14)\n    Line #490 (got 16 columns instead of 14)\n    Line #491 (got 15 columns instead of 14)\n    Line #492 (got 15 columns instead of 14)\n    Line #493 (got 16 columns instead of 14)\n    Line #494 (got 16 columns instead of 14)\n    Line #495 (got 16 columns instead of 14)\n    Line #496 (got 15 columns instead of 14)\n    Line #497 (got 16 columns instead of 14)\n    Line #498 (got 16 columns instead of 14)\n    Line #499 (got 16 columns instead of 14)\n    Line #500 (got 16 columns instead of 14)\n    Line #501 (got 16 columns instead of 14)\n    Line #502 (got 16 columns instead of 14)\n    Line #503 (got 16 columns instead of 14)\n    Line #504 (got 16 columns instead of 14)\n    Line #505 (got 16 columns instead of 14)\n    Line #506 (got 16 columns instead of 14)\n    Line #507 (got 16 columns instead of 14)\n    Line #508 (got 16 columns instead of 14)\n    Line #509 (got 16 columns instead of 14)\n    Line #510 (got 16 columns instead of 14)\n    Line #511 (got 17 columns instead of 14)\n    Line #512 (got 16 columns instead of 14)\n    Line #513 (got 16 columns instead of 14)\n    Line #514 (got 15 columns instead of 14)\n    Line #515 (got 16 columns instead of 14)\n    Line #516 (got 16 columns instead of 14)\n    Line #517 (got 16 columns instead of 14)\n    Line #518 (got 16 columns instead of 14)\n    Line #519 (got 16 columns instead of 14)\n    Line #520 (got 16 columns instead of 14)\n    Line #521 (got 16 columns instead of 14)\n    Line #522 (got 16 columns instead of 14)\n    Line #523 (got 16 columns instead of 14)\n    Line #524 (got 15 columns instead of 14)\n    Line #525 (got 16 columns instead of 14)\n    Line #526 (got 17 columns instead of 14)\n    Line #527 (got 16 columns instead of 14)\n    Line #528 (got 17 columns instead of 14)\n    Line #529 (got 16 columns instead of 14)\n    Line #530 (got 16 columns instead of 14)\n    Line #531 (got 16 columns instead of 14)\n    Line #532 (got 16 columns instead of 14)\n    Line #533 (got 15 columns instead of 14)\n    Line #534 (got 16 columns instead of 14)\n    Line #535 (got 17 columns instead of 14)\n    Line #536 (got 15 columns instead of 14)\n    Line #537 (got 15 columns instead of 14)\n    Line #538 (got 16 columns instead of 14)\n    Line #539 (got 16 columns instead of 14)\n    Line #540 (got 16 columns instead of 14)\n    Line #541 (got 15 columns instead of 14)\n    Line #542 (got 16 columns instead of 14)\n    Line #543 (got 16 columns instead of 14)\n    Line #544 (got 15 columns instead of 14)\n    Line #545 (got 17 columns instead of 14)\n    Line #546 (got 17 columns instead of 14)\n    Line #547 (got 17 columns instead of 14)\n    Line #548 (got 16 columns instead of 14)\n    Line #549 (got 16 columns instead of 14)\n    Line #550 (got 16 columns instead of 14)\n    Line #551 (got 15 columns instead of 14)\n    Line #552 (got 16 columns instead of 14)\n    Line #553 (got 16 columns instead of 14)\n    Line #554 (got 16 columns instead of 14)\n    Line #555 (got 16 columns instead of 14)\n    Line #556 (got 18 columns instead of 14)\n    Line #557 (got 15 columns instead of 14)\n    Line #558 (got 16 columns instead of 14)\n    Line #559 (got 16 columns instead of 14)\n    Line #560 (got 15 columns instead of 14)\n    Line #561 (got 16 columns instead of 14)\n    Line #562 (got 16 columns instead of 14)\n    Line #563 (got 16 columns instead of 14)\n    Line #564 (got 16 columns instead of 14)\n    Line #565 (got 16 columns instead of 14)\n    Line #566 (got 16 columns instead of 14)\n    Line #567 (got 16 columns instead of 14)\n    Line #568 (got 15 columns instead of 14)\n    Line #569 (got 15 columns instead of 14)\n    Line #570 (got 16 columns instead of 14)\n    Line #571 (got 16 columns instead of 14)\n    Line #572 (got 17 columns instead of 14)\n    Line #573 (got 15 columns instead of 14)\n    Line #574 (got 16 columns instead of 14)\n    Line #575 (got 16 columns instead of 14)\n    Line #576 (got 15 columns instead of 14)\n    Line #577 (got 16 columns instead of 14)\n    Line #578 (got 16 columns instead of 14)\n    Line #579 (got 16 columns instead of 14)\n    Line #580 (got 16 columns instead of 14)\n    Line #581 (got 17 columns instead of 14)\n    Line #582 (got 16 columns instead of 14)\n    Line #583 (got 17 columns instead of 14)\n    Line #584 (got 15 columns instead of 14)\n    Line #585 (got 17 columns instead of 14)\n    Line #586 (got 15 columns instead of 14)\n    Line #587 (got 16 columns instead of 14)\n    Line #588 (got 16 columns instead of 14)\n    Line #589 (got 16 columns instead of 14)\n    Line #590 (got 17 columns instead of 14)\n    Line #591 (got 17 columns instead of 14)\n    Line #592 (got 16 columns instead of 14)\n    Line #593 (got 16 columns instead of 14)\n    Line #594 (got 16 columns instead of 14)\n    Line #595 (got 16 columns instead of 14)\n    Line #596 (got 16 columns instead of 14)\n    Line #597 (got 16 columns instead of 14)\n    Line #598 (got 16 columns instead of 14)\n    Line #599 (got 17 columns instead of 14)\n    Line #600 (got 15 columns instead of 14)\n    Line #601 (got 16 columns instead of 14)\n    Line #602 (got 16 columns instead of 14)\n    Line #603 (got 17 columns instead of 14)\n    Line #604 (got 15 columns instead of 14)\n    Line #605 (got 15 columns instead of 14)\n    Line #606 (got 16 columns instead of 14)\n    Line #607 (got 16 columns instead of 14)\n    Line #608 (got 16 columns instead of 14)\n    Line #609 (got 16 columns instead of 14)\n    Line #610 (got 16 columns instead of 14)\n    Line #611 (got 17 columns instead of 14)\n    Line #612 (got 16 columns instead of 14)\n    Line #613 (got 17 columns instead of 14)\n    Line #614 (got 16 columns instead of 14)\n    Line #615 (got 16 columns instead of 14)\n    Line #616 (got 17 columns instead of 14)\n    Line #617 (got 17 columns instead of 14)\n    Line #618 (got 16 columns instead of 14)\n    Line #619 (got 16 columns instead of 14)\n    Line #620 (got 17 columns instead of 14)\n    Line #621 (got 15 columns instead of 14)\n    Line #622 (got 15 columns instead of 14)\n    Line #623 (got 17 columns instead of 14)\n    Line #624 (got 17 columns instead of 14)\n    Line #625 (got 16 columns instead of 14)\n    Line #626 (got 15 columns instead of 14)\n    Line #627 (got 16 columns instead of 14)\n    Line #628 (got 16 columns instead of 14)\n    Line #629 (got 16 columns instead of 14)\n    Line #630 (got 17 columns instead of 14)\n    Line #631 (got 17 columns instead of 14)\n    Line #632 (got 16 columns instead of 14)\n    Line #633 (got 16 columns instead of 14)\n    Line #634 (got 16 columns instead of 14)\n    Line #635 (got 15 columns instead of 14)\n    Line #636 (got 16 columns instead of 14)\n    Line #637 (got 16 columns instead of 14)\n    Line #638 (got 16 columns instead of 14)\n    Line #639 (got 16 columns instead of 14)\n    Line #640 (got 16 columns instead of 14)\n    Line #641 (got 16 columns instead of 14)\n    Line #642 (got 16 columns instead of 14)\n    Line #643 (got 15 columns instead of 14)\n    Line #644 (got 16 columns instead of 14)\n    Line #645 (got 16 columns instead of 14)\n    Line #646 (got 16 columns instead of 14)\n    Line #647 (got 16 columns instead of 14)\n    Line #648 (got 16 columns instead of 14)\n    Line #649 (got 16 columns instead of 14)\n    Line #650 (got 17 columns instead of 14)\n    Line #651 (got 16 columns instead of 14)\n    Line #652 (got 16 columns instead of 14)\n    Line #653 (got 16 columns instead of 14)\n    Line #654 (got 15 columns instead of 14)\n    Line #655 (got 15 columns instead of 14)\n    Line #656 (got 16 columns instead of 14)\n    Line #657 (got 17 columns instead of 14)\n    Line #658 (got 16 columns instead of 14)\n    Line #659 (got 15 columns instead of 14)\n    Line #660 (got 17 columns instead of 14)\n    Line #661 (got 17 columns instead of 14)\n    Line #662 (got 16 columns instead of 14)\n    Line #663 (got 16 columns instead of 14)\n    Line #664 (got 16 columns instead of 14)\n    Line #665 (got 16 columns instead of 14)\n    Line #666 (got 16 columns instead of 14)\n    Line #667 (got 15 columns instead of 14)\n    Line #668 (got 15 columns instead of 14)\n    Line #669 (got 15 columns instead of 14)\n    Line #670 (got 16 columns instead of 14)\n    Line #671 (got 16 columns instead of 14)\n    Line #672 (got 16 columns instead of 14)\n    Line #673 (got 16 columns instead of 14)\n    Line #674 (got 15 columns instead of 14)\n    Line #675 (got 17 columns instead of 14)\n    Line #676 (got 16 columns instead of 14)\n    Line #677 (got 15 columns instead of 14)\n    Line #678 (got 15 columns instead of 14)\n    Line #679 (got 16 columns instead of 14)\n    Line #680 (got 16 columns instead of 14)\n    Line #681 (got 16 columns instead of 14)\n    Line #682 (got 16 columns instead of 14)\n    Line #683 (got 16 columns instead of 14)\n    Line #684 (got 16 columns instead of 14)\n    Line #685 (got 15 columns instead of 14)\n    Line #686 (got 16 columns instead of 14)\n    Line #687 (got 16 columns instead of 14)\n    Line #688 (got 16 columns instead of 14)\n    Line #689 (got 16 columns instead of 14)\n    Line #690 (got 17 columns instead of 14)\n    Line #691 (got 18 columns instead of 14)\n    Line #692 (got 17 columns instead of 14)\n    Line #693 (got 16 columns instead of 14)\n    Line #694 (got 16 columns instead of 14)\n    Line #695 (got 16 columns instead of 14)\n    Line #696 (got 17 columns instead of 14)\n    Line #697 (got 17 columns instead of 14)\n    Line #698 (got 18 columns instead of 14)\n    Line #699 (got 17 columns instead of 14)\n    Line #700 (got 17 columns instead of 14)\n    Line #701 (got 15 columns instead of 14)\n    Line #702 (got 15 columns instead of 14)\n    Line #703 (got 15 columns instead of 14)\n    Line #704 (got 15 columns instead of 14)\n    Line #705 (got 15 columns instead of 14)\n    Line #706 (got 15 columns instead of 14)\n    Line #707 (got 15 columns instead of 14)\n    Line #708 (got 16 columns instead of 14)\n    Line #709 (got 15 columns instead of 14)\n    Line #710 (got 16 columns instead of 14)\n    Line #711 (got 16 columns instead of 14)\n    Line #712 (got 17 columns instead of 14)\n    Line #713 (got 17 columns instead of 14)\n    Line #714 (got 17 columns instead of 14)\n    Line #715 (got 17 columns instead of 14)\n    Line #716 (got 17 columns instead of 14)\n    Line #717 (got 15 columns instead of 14)\n    Line #718 (got 16 columns instead of 14)\n    Line #719 (got 16 columns instead of 14)\n    Line #720 (got 15 columns instead of 14)\n    Line #721 (got 15 columns instead of 14)\n    Line #722 (got 15 columns instead of 14)\n    Line #723 (got 15 columns instead of 14)\n    Line #724 (got 16 columns instead of 14)\n    Line #725 (got 17 columns instead of 14)\n    Line #726 (got 16 columns instead of 14)\n    Line #727 (got 15 columns instead of 14)\n    Line #728 (got 16 columns instead of 14)\n    Line #729 (got 16 columns instead of 14)\n    Line #730 (got 15 columns instead of 14)\n    Line #731 (got 15 columns instead of 14)\n    Line #732 (got 15 columns instead of 14)\n    Line #733 (got 15 columns instead of 14)\n    Line #734 (got 15 columns instead of 14)\n    Line #735 (got 15 columns instead of 14)\n    Line #736 (got 15 columns instead of 14)\n    Line #737 (got 15 columns instead of 14)\n    Line #738 (got 16 columns instead of 14)\n    Line #739 (got 16 columns instead of 14)\n    Line #740 (got 16 columns instead of 14)\n    Line #741 (got 16 columns instead of 14)\n    Line #742 (got 17 columns instead of 14)\n    Line #743 (got 17 columns instead of 14)\n    Line #744 (got 17 columns instead of 14)\n    Line #745 (got 15 columns instead of 14)\n    Line #746 (got 15 columns instead of 14)\n    Line #747 (got 16 columns instead of 14)\n    Line #748 (got 17 columns instead of 14)\n    Line #749 (got 15 columns instead of 14)\n    Line #750 (got 17 columns instead of 14)\n    Line #751 (got 17 columns instead of 14)\n    Line #752 (got 16 columns instead of 14)\n    Line #753 (got 16 columns instead of 14)\n    Line #754 (got 16 columns instead of 14)\n    Line #755 (got 16 columns instead of 14)\n    Line #756 (got 16 columns instead of 14)\n    Line #757 (got 17 columns instead of 14)\n    Line #758 (got 15 columns instead of 14)\n    Line #759 (got 17 columns instead of 14)\n    Line #760 (got 17 columns instead of 14)\n    Line #761 (got 17 columns instead of 14)\n    Line #762 (got 17 columns instead of 14)\n    Line #763 (got 16 columns instead of 14)\n    Line #764 (got 16 columns instead of 14)\n    Line #765 (got 16 columns instead of 14)\n    Line #766 (got 15 columns instead of 14)\n    Line #767 (got 17 columns instead of 14)\n    Line #768 (got 17 columns instead of 14)\n    Line #769 (got 17 columns instead of 14)\n    Line #770 (got 17 columns instead of 14)\n    Line #771 (got 15 columns instead of 14)\n    Line #772 (got 15 columns instead of 14)\n    Line #773 (got 16 columns instead of 14)\n    Line #774 (got 15 columns instead of 14)\n    Line #775 (got 15 columns instead of 14)\n    Line #776 (got 18 columns instead of 14)\n    Line #777 (got 15 columns instead of 14)\n    Line #778 (got 15 columns instead of 14)\n    Line #779 (got 15 columns instead of 14)\n    Line #780 (got 15 columns instead of 14)\n    Line #781 (got 16 columns instead of 14)\n    Line #782 (got 16 columns instead of 14)\n    Line #783 (got 16 columns instead of 14)\n    Line #784 (got 16 columns instead of 14)\n    Line #785 (got 16 columns instead of 14)\n    Line #786 (got 16 columns instead of 14)\n    Line #787 (got 15 columns instead of 14)\n    Line #788 (got 16 columns instead of 14)\n    Line #789 (got 16 columns instead of 14)\n    Line #790 (got 16 columns instead of 14)\n    Line #791 (got 17 columns instead of 14)\n    Line #792 (got 17 columns instead of 14)\n    Line #793 (got 16 columns instead of 14)\n    Line #794 (got 15 columns instead of 14)\n    Line #795 (got 16 columns instead of 14)\n    Line #796 (got 15 columns instead of 14)\n    Line #797 (got 15 columns instead of 14)\n    Line #798 (got 16 columns instead of 14)\n    Line #799 (got 16 columns instead of 14)\n    Line #800 (got 15 columns instead of 14)\n    Line #801 (got 15 columns instead of 14)\n    Line #802 (got 18 columns instead of 14)\n    Line #803 (got 16 columns instead of 14)\n    Line #804 (got 15 columns instead of 14)\n    Line #805 (got 15 columns instead of 14)\n    Line #806 (got 15 columns instead of 14)\n    Line #807 (got 15 columns instead of 14)\n    Line #808 (got 16 columns instead of 14)\n    Line #809 (got 15 columns instead of 14)\n    Line #810 (got 16 columns instead of 14)\n    Line #811 (got 18 columns instead of 14)\n    Line #812 (got 18 columns instead of 14)\n    Line #813 (got 17 columns instead of 14)\n    Line #814 (got 18 columns instead of 14)\n    Line #815 (got 18 columns instead of 14)\n    Line #816 (got 18 columns instead of 14)\n    Line #817 (got 16 columns instead of 14)\n    Line #818 (got 15 columns instead of 14)\n    Line #819 (got 16 columns instead of 14)\n    Line #820 (got 15 columns instead of 14)\n    Line #821 (got 15 columns instead of 14)\n    Line #822 (got 15 columns instead of 14)\n    Line #823 (got 17 columns instead of 14)\n    Line #824 (got 17 columns instead of 14)\n    Line #825 (got 18 columns instead of 14)\n    Line #826 (got 18 columns instead of 14)\n    Line #827 (got 16 columns instead of 14)\n    Line #828 (got 18 columns instead of 14)\n    Line #829 (got 15 columns instead of 14)\n    Line #830 (got 17 columns instead of 14)\n    Line #831 (got 17 columns instead of 14)\n    Line #832 (got 17 columns instead of 14)\n    Line #833 (got 17 columns instead of 14)\n    Line #834 (got 17 columns instead of 14)\n    Line #835 (got 17 columns instead of 14)\n    Line #836 (got 17 columns instead of 14)\n    Line #837 (got 17 columns instead of 14)\n    Line #838 (got 17 columns instead of 14)\n    Line #839 (got 17 columns instead of 14)\n    Line #840 (got 15 columns instead of 14)\n    Line #841 (got 17 columns instead of 14)\n    Line #842 (got 17 columns instead of 14)\n    Line #843 (got 17 columns instead of 14)\n    Line #844 (got 17 columns instead of 14)\n    Line #845 (got 15 columns instead of 14)\n    Line #846 (got 15 columns instead of 14)\n    Line #847 (got 15 columns instead of 14)\n    Line #848 (got 15 columns instead of 14)\n    Line #849 (got 15 columns instead of 14)\n    Line #850 (got 15 columns instead of 14)\n    Line #851 (got 15 columns instead of 14)\n    Line #852 (got 15 columns instead of 14)\n    Line #853 (got 15 columns instead of 14)\n    Line #854 (got 15 columns instead of 14)\n    Line #855 (got 15 columns instead of 14)\n    Line #856 (got 15 columns instead of 14)\n    Line #857 (got 15 columns instead of 14)\n    Line #858 (got 15 columns instead of 14)\n    Line #859 (got 15 columns instead of 14)\n    Line #860 (got 15 columns instead of 14)\n    Line #861 (got 15 columns instead of 14)\n    Line #862 (got 15 columns instead of 14)\n    Line #863 (got 15 columns instead of 14)\n    Line #864 (got 15 columns instead of 14)\n    Line #865 (got 15 columns instead of 14)\n    Line #866 (got 15 columns instead of 14)\n    Line #867 (got 15 columns instead of 14)\n    Line #868 (got 15 columns instead of 14)\n    Line #869 (got 15 columns instead of 14)\n    Line #870 (got 15 columns instead of 14)\n    Line #871 (got 15 columns instead of 14)\n    Line #872 (got 15 columns instead of 14)\n    Line #873 (got 15 columns instead of 14)\n    Line #874 (got 15 columns instead of 14)\n    Line #875 (got 15 columns instead of 14)\n    Line #876 (got 15 columns instead of 14)\n    Line #877 (got 15 columns instead of 14)\n    Line #878 (got 15 columns instead of 14)\n    Line #879 (got 15 columns instead of 14)\n    Line #880 (got 15 columns instead of 14)\n    Line #881 (got 15 columns instead of 14)\n    Line #882 (got 15 columns instead of 14)\n    Line #883 (got 15 columns instead of 14)\n    Line #884 (got 15 columns instead of 14)\n    Line #885 (got 15 columns instead of 14)\n    Line #886 (got 15 columns instead of 14)\n    Line #887 (got 15 columns instead of 14)\n    Line #888 (got 15 columns instead of 14)\n    Line #889 (got 15 columns instead of 14)\n    Line #890 (got 15 columns instead of 14)\n    Line #891 (got 15 columns instead of 14)\n    Line #892 (got 15 columns instead of 14)\n    Line #893 (got 15 columns instead of 14)\n    Line #894 (got 15 columns instead of 14)\n    Line #895 (got 15 columns instead of 14)\n    Line #896 (got 15 columns instead of 14)\n    Line #897 (got 15 columns instead of 14)\n    Line #898 (got 15 columns instead of 14)\n    Line #899 (got 15 columns instead of 14)\n    Line #900 (got 15 columns instead of 14)\n    Line #901 (got 15 columns instead of 14)\n    Line #902 (got 15 columns instead of 14)\n    Line #903 (got 15 columns instead of 14)\n    Line #904 (got 15 columns instead of 14)\n    Line #905 (got 15 columns instead of 14)\n    Line #906 (got 15 columns instead of 14)\n    Line #907 (got 15 columns instead of 14)\n    Line #908 (got 15 columns instead of 14)\n    Line #909 (got 15 columns instead of 14)\n    Line #910 (got 15 columns instead of 14)\n    Line #911 (got 15 columns instead of 14)\n    Line #912 (got 15 columns instead of 14)\n    Line #913 (got 15 columns instead of 14)\n    Line #914 (got 15 columns instead of 14)\n    Line #915 (got 15 columns instead of 14)\n    Line #916 (got 15 columns instead of 14)\n    Line #917 (got 15 columns instead of 14)\n    Line #918 (got 15 columns instead of 14)\n    Line #919 (got 15 columns instead of 14)\n    Line #920 (got 15 columns instead of 14)\n    Line #921 (got 15 columns instead of 14)\n    Line #922 (got 15 columns instead of 14)\n    Line #923 (got 15 columns instead of 14)\n    Line #924 (got 15 columns instead of 14)\n    Line #925 (got 15 columns instead of 14)\n    Line #926 (got 15 columns instead of 14)\n    Line #927 (got 15 columns instead of 14)\n    Line #928 (got 15 columns instead of 14)\n    Line #929 (got 15 columns instead of 14)\n    Line #930 (got 15 columns instead of 14)\n    Line #931 (got 15 columns instead of 14)\n    Line #932 (got 15 columns instead of 14)\n    Line #933 (got 15 columns instead of 14)\n    Line #934 (got 15 columns instead of 14)\n    Line #935 (got 15 columns instead of 14)\n    Line #936 (got 15 columns instead of 14)\n    Line #937 (got 15 columns instead of 14)\n    Line #938 (got 15 columns instead of 14)\n    Line #939 (got 15 columns instead of 14)\n    Line #940 (got 15 columns instead of 14)\n    Line #941 (got 15 columns instead of 14)\n    Line #942 (got 15 columns instead of 14)\n    Line #943 (got 15 columns instead of 14)\n    Line #944 (got 15 columns instead of 14)\n    Line #945 (got 15 columns instead of 14)\n    Line #946 (got 15 columns instead of 14)\n    Line #947 (got 15 columns instead of 14)\n    Line #948 (got 15 columns instead of 14)\n    Line #949 (got 15 columns instead of 14)\n    Line #950 (got 15 columns instead of 14)\n    Line #951 (got 15 columns instead of 14)\n    Line #952 (got 15 columns instead of 14)\n    Line #953 (got 15 columns instead of 14)\n    Line #954 (got 15 columns instead of 14)\n    Line #955 (got 15 columns instead of 14)\n    Line #956 (got 15 columns instead of 14)\n    Line #957 (got 15 columns instead of 14)\n    Line #958 (got 15 columns instead of 14)\n    Line #959 (got 15 columns instead of 14)\n    Line #960 (got 15 columns instead of 14)\n    Line #961 (got 15 columns instead of 14)\n    Line #962 (got 15 columns instead of 14)\n    Line #963 (got 15 columns instead of 14)\n    Line #964 (got 15 columns instead of 14)\n    Line #965 (got 15 columns instead of 14)\n    Line #966 (got 15 columns instead of 14)\n    Line #967 (got 15 columns instead of 14)\n    Line #968 (got 15 columns instead of 14)\n    Line #969 (got 15 columns instead of 14)\n    Line #970 (got 15 columns instead of 14)\n    Line #971 (got 15 columns instead of 14)\n    Line #972 (got 15 columns instead of 14)\n    Line #973 (got 15 columns instead of 14)\n    Line #974 (got 15 columns instead of 14)\n    Line #975 (got 15 columns instead of 14)\n    Line #976 (got 15 columns instead of 14)\n    Line #977 (got 15 columns instead of 14)\n    Line #978 (got 15 columns instead of 14)\n    Line #979 (got 15 columns instead of 14)\n    Line #980 (got 15 columns instead of 14)\n    Line #981 (got 15 columns instead of 14)\n    Line #982 (got 15 columns instead of 14)\n    Line #983 (got 15 columns instead of 14)\n    Line #984 (got 15 columns instead of 14)\n    Line #985 (got 15 columns instead of 14)\n    Line #986 (got 15 columns instead of 14)\n    Line #987 (got 15 columns instead of 14)\n    Line #988 (got 15 columns instead of 14)\n    Line #989 (got 15 columns instead of 14)\n    Line #990 (got 15 columns instead of 14)\n    Line #991 (got 15 columns instead of 14)\n    Line #992 (got 15 columns instead of 14)\n    Line #993 (got 15 columns instead of 14)\n    Line #994 (got 15 columns instead of 14)\n    Line #995 (got 15 columns instead of 14)\n    Line #996 (got 15 columns instead of 14)\n    Line #997 (got 15 columns instead of 14)\n    Line #998 (got 15 columns instead of 14)\n    Line #999 (got 15 columns instead of 14)\n    Line #1000 (got 15 columns instead of 14)\n    Line #1001 (got 15 columns instead of 14)\n    Line #1002 (got 15 columns instead of 14)\n    Line #1003 (got 15 columns instead of 14)\n    Line #1004 (got 15 columns instead of 14)\n    Line #1005 (got 15 columns instead of 14)\n    Line #1006 (got 15 columns instead of 14)\n    Line #1007 (got 15 columns instead of 14)\n    Line #1008 (got 15 columns instead of 14)\n    Line #1009 (got 15 columns instead of 14)\n    Line #1010 (got 15 columns instead of 14)\n    Line #1011 (got 15 columns instead of 14)\n    Line #1012 (got 15 columns instead of 14)\n    Line #1013 (got 15 columns instead of 14)\n    Line #1014 (got 15 columns instead of 14)\n    Line #1015 (got 15 columns instead of 14)\n    Line #1016 (got 15 columns instead of 14)\n    Line #1017 (got 15 columns instead of 14)\n    Line #1018 (got 15 columns instead of 14)\n    Line #1019 (got 15 columns instead of 14)\n    Line #1020 (got 15 columns instead of 14)\n    Line #1021 (got 15 columns instead of 14)\n    Line #1022 (got 15 columns instead of 14)\n    Line #1023 (got 15 columns instead of 14)\n    Line #1024 (got 15 columns instead of 14)\n    Line #1025 (got 15 columns instead of 14)\n    Line #1026 (got 15 columns instead of 14)\n    Line #1027 (got 15 columns instead of 14)\n    Line #1028 (got 15 columns instead of 14)\n    Line #1029 (got 15 columns instead of 14)\n    Line #1030 (got 15 columns instead of 14)\n    Line #1031 (got 15 columns instead of 14)\n    Line #1032 (got 15 columns instead of 14)\n    Line #1033 (got 15 columns instead of 14)\n    Line #1034 (got 15 columns instead of 14)\n    Line #1035 (got 15 columns instead of 14)\n    Line #1036 (got 15 columns instead of 14)\n    Line #1037 (got 15 columns instead of 14)\n    Line #1038 (got 15 columns instead of 14)\n    Line #1039 (got 15 columns instead of 14)\n    Line #1040 (got 15 columns instead of 14)\n    Line #1041 (got 15 columns instead of 14)\n    Line #1042 (got 15 columns instead of 14)\n    Line #1043 (got 15 columns instead of 14)\n    Line #1044 (got 15 columns instead of 14)\n    Line #1045 (got 15 columns instead of 14)\n    Line #1046 (got 15 columns instead of 14)\n    Line #1047 (got 15 columns instead of 14)\n    Line #1048 (got 15 columns instead of 14)\n    Line #1049 (got 15 columns instead of 14)\n    Line #1050 (got 15 columns instead of 14)\n    Line #1051 (got 15 columns instead of 14)\n    Line #1052 (got 15 columns instead of 14)\n    Line #1053 (got 15 columns instead of 14)\n    Line #1054 (got 15 columns instead of 14)\n    Line #1055 (got 15 columns instead of 14)\n    Line #1056 (got 15 columns instead of 14)\n    Line #1057 (got 15 columns instead of 14)\n    Line #1058 (got 15 columns instead of 14)\n    Line #1059 (got 15 columns instead of 14)\n    Line #1060 (got 15 columns instead of 14)\n    Line #1061 (got 15 columns instead of 14)\n    Line #1062 (got 15 columns instead of 14)\n    Line #1063 (got 15 columns instead of 14)\n    Line #1064 (got 15 columns instead of 14)\n    Line #1065 (got 15 columns instead of 14)\n    Line #1066 (got 15 columns instead of 14)\n    Line #1067 (got 15 columns instead of 14)\n    Line #1068 (got 16 columns instead of 14)\n    Line #1069 (got 15 columns instead of 14)\n    Line #1070 (got 15 columns instead of 14)\n    Line #1071 (got 15 columns instead of 14)\n    Line #1072 (got 15 columns instead of 14)\n    Line #1073 (got 15 columns instead of 14)\n    Line #1074 (got 15 columns instead of 14)\n    Line #1075 (got 15 columns instead of 14)\n    Line #1076 (got 15 columns instead of 14)\n    Line #1077 (got 15 columns instead of 14)\n    Line #1078 (got 15 columns instead of 14)\n    Line #1079 (got 15 columns instead of 14)\n    Line #1080 (got 15 columns instead of 14)\n    Line #1081 (got 15 columns instead of 14)\n    Line #1082 (got 15 columns instead of 14)\n    Line #1083 (got 15 columns instead of 14)\n    Line #1084 (got 15 columns instead of 14)\n    Line #1085 (got 15 columns instead of 14)\n    Line #1086 (got 15 columns instead of 14)\n    Line #1087 (got 15 columns instead of 14)\n    Line #1088 (got 15 columns instead of 14)\n    Line #1089 (got 15 columns instead of 14)\n    Line #1090 (got 15 columns instead of 14)\n    Line #1091 (got 15 columns instead of 14)\n    Line #1092 (got 15 columns instead of 14)\n    Line #1093 (got 15 columns instead of 14)\n    Line #1094 (got 17 columns instead of 14)\n    Line #1095 (got 15 columns instead of 14)\n    Line #1096 (got 15 columns instead of 14)\n    Line #1097 (got 15 columns instead of 14)\n    Line #1098 (got 15 columns instead of 14)\n    Line #1099 (got 15 columns instead of 14)\n    Line #1100 (got 15 columns instead of 14)\n    Line #1101 (got 15 columns instead of 14)\n    Line #1102 (got 15 columns instead of 14)\n    Line #1103 (got 15 columns instead of 14)\n    Line #1104 (got 15 columns instead of 14)\n    Line #1105 (got 15 columns instead of 14)\n    Line #1106 (got 15 columns instead of 14)\n    Line #1107 (got 15 columns instead of 14)\n    Line #1108 (got 15 columns instead of 14)\n    Line #1109 (got 15 columns instead of 14)\n    Line #1110 (got 15 columns instead of 14)\n    Line #1111 (got 15 columns instead of 14)\n    Line #1112 (got 15 columns instead of 14)\n    Line #1113 (got 15 columns instead of 14)\n    Line #1114 (got 15 columns instead of 14)\n    Line #1115 (got 15 columns instead of 14)\n    Line #1116 (got 15 columns instead of 14)\n    Line #1117 (got 15 columns instead of 14)\n    Line #1118 (got 15 columns instead of 14)\n    Line #1119 (got 15 columns instead of 14)\n    Line #1120 (got 15 columns instead of 14)\n    Line #1121 (got 15 columns instead of 14)\n    Line #1122 (got 15 columns instead of 14)\n    Line #1123 (got 15 columns instead of 14)\n    Line #1124 (got 15 columns instead of 14)\n    Line #1125 (got 15 columns instead of 14)\n    Line #1126 (got 15 columns instead of 14)\n    Line #1127 (got 15 columns instead of 14)\n    Line #1128 (got 15 columns instead of 14)\n    Line #1129 (got 15 columns instead of 14)\n    Line #1130 (got 15 columns instead of 14)\n    Line #1131 (got 15 columns instead of 14)\n    Line #1132 (got 15 columns instead of 14)\n    Line #1133 (got 15 columns instead of 14)\n    Line #1134 (got 15 columns instead of 14)\n    Line #1135 (got 15 columns instead of 14)\n    Line #1136 (got 15 columns instead of 14)\n    Line #1137 (got 15 columns instead of 14)\n    Line #1138 (got 15 columns instead of 14)\n    Line #1139 (got 15 columns instead of 14)\n    Line #1140 (got 15 columns instead of 14)\n    Line #1141 (got 15 columns instead of 14)\n    Line #1142 (got 15 columns instead of 14)\n    Line #1143 (got 15 columns instead of 14)\n    Line #1144 (got 15 columns instead of 14)\n    Line #1145 (got 15 columns instead of 14)\n    Line #1146 (got 15 columns instead of 14)\n    Line #1147 (got 15 columns instead of 14)\n    Line #1148 (got 15 columns instead of 14)\n    Line #1149 (got 15 columns instead of 14)\n    Line #1150 (got 15 columns instead of 14)\n    Line #1151 (got 15 columns instead of 14)\n    Line #1152 (got 15 columns instead of 14)\n    Line #1153 (got 15 columns instead of 14)\n    Line #1154 (got 15 columns instead of 14)\n    Line #1155 (got 15 columns instead of 14)\n    Line #1156 (got 15 columns instead of 14)\n    Line #1157 (got 15 columns instead of 14)\n    Line #1158 (got 15 columns instead of 14)\n    Line #1159 (got 15 columns instead of 14)\n    Line #1160 (got 15 columns instead of 14)\n    Line #1161 (got 15 columns instead of 14)\n    Line #1162 (got 15 columns instead of 14)\n    Line #1163 (got 15 columns instead of 14)\n    Line #1164 (got 15 columns instead of 14)\n    Line #1165 (got 15 columns instead of 14)\n    Line #1166 (got 15 columns instead of 14)\n    Line #1167 (got 15 columns instead of 14)\n    Line #1168 (got 15 columns instead of 14)\n    Line #1169 (got 15 columns instead of 14)\n    Line #1170 (got 15 columns instead of 14)\n    Line #1171 (got 15 columns instead of 14)\n    Line #1172 (got 15 columns instead of 14)\n    Line #1173 (got 15 columns instead of 14)\n    Line #1174 (got 15 columns instead of 14)\n    Line #1175 (got 15 columns instead of 14)\n    Line #1176 (got 15 columns instead of 14)\n    Line #1177 (got 15 columns instead of 14)\n    Line #1178 (got 15 columns instead of 14)\n    Line #1179 (got 15 columns instead of 14)\n    Line #1180 (got 15 columns instead of 14)\n    Line #1181 (got 15 columns instead of 14)\n    Line #1182 (got 15 columns instead of 14)\n    Line #1183 (got 15 columns instead of 14)\n    Line #1184 (got 15 columns instead of 14)\n    Line #1185 (got 15 columns instead of 14)\n    Line #1186 (got 15 columns instead of 14)\n    Line #1187 (got 15 columns instead of 14)\n    Line #1188 (got 15 columns instead of 14)\n    Line #1189 (got 15 columns instead of 14)\n    Line #1190 (got 15 columns instead of 14)\n    Line #1191 (got 15 columns instead of 14)\n    Line #1192 (got 15 columns instead of 14)\n    Line #1193 (got 15 columns instead of 14)\n    Line #1194 (got 15 columns instead of 14)\n    Line #1195 (got 15 columns instead of 14)\n    Line #1196 (got 15 columns instead of 14)\n    Line #1197 (got 15 columns instead of 14)\n    Line #1198 (got 15 columns instead of 14)\n    Line #1199 (got 15 columns instead of 14)\n    Line #1200 (got 15 columns instead of 14)\n    Line #1201 (got 15 columns instead of 14)\n    Line #1202 (got 15 columns instead of 14)\n    Line #1203 (got 15 columns instead of 14)\n    Line #1204 (got 15 columns instead of 14)\n    Line #1205 (got 15 columns instead of 14)\n    Line #1206 (got 15 columns instead of 14)\n    Line #1207 (got 15 columns instead of 14)\n    Line #1208 (got 15 columns instead of 14)\n    Line #1209 (got 15 columns instead of 14)\n    Line #1210 (got 15 columns instead of 14)\n    Line #1211 (got 15 columns instead of 14)\n    Line #1212 (got 15 columns instead of 14)\n    Line #1213 (got 15 columns instead of 14)\n    Line #1214 (got 15 columns instead of 14)\n    Line #1215 (got 15 columns instead of 14)\n    Line #1216 (got 15 columns instead of 14)\n    Line #1217 (got 15 columns instead of 14)\n    Line #1218 (got 15 columns instead of 14)\n    Line #1219 (got 15 columns instead of 14)\n    Line #1220 (got 15 columns instead of 14)\n    Line #1221 (got 15 columns instead of 14)\n    Line #1222 (got 15 columns instead of 14)\n    Line #1223 (got 15 columns instead of 14)\n    Line #1224 (got 15 columns instead of 14)\n    Line #1225 (got 15 columns instead of 14)\n    Line #1226 (got 15 columns instead of 14)\n    Line #1227 (got 15 columns instead of 14)\n    Line #1228 (got 15 columns instead of 14)\n    Line #1229 (got 15 columns instead of 14)\n    Line #1230 (got 15 columns instead of 14)\n    Line #1231 (got 15 columns instead of 14)\n    Line #1232 (got 15 columns instead of 14)\n    Line #1233 (got 15 columns instead of 14)\n    Line #1234 (got 15 columns instead of 14)\n    Line #1235 (got 15 columns instead of 14)\n    Line #1236 (got 15 columns instead of 14)\n    Line #1237 (got 15 columns instead of 14)\n    Line #1238 (got 15 columns instead of 14)\n    Line #1239 (got 15 columns instead of 14)\n    Line #1240 (got 15 columns instead of 14)\n    Line #1241 (got 15 columns instead of 14)\n    Line #1242 (got 15 columns instead of 14)\n    Line #1243 (got 15 columns instead of 14)\n    Line #1244 (got 15 columns instead of 14)\n    Line #1245 (got 15 columns instead of 14)\n    Line #1246 (got 15 columns instead of 14)\n    Line #1247 (got 15 columns instead of 14)\n    Line #1248 (got 15 columns instead of 14)\n    Line #1249 (got 15 columns instead of 14)\n    Line #1250 (got 15 columns instead of 14)\n    Line #1251 (got 15 columns instead of 14)\n    Line #1252 (got 15 columns instead of 14)\n    Line #1253 (got 15 columns instead of 14)\n    Line #1254 (got 15 columns instead of 14)\n    Line #1255 (got 15 columns instead of 14)\n    Line #1256 (got 15 columns instead of 14)\n    Line #1257 (got 15 columns instead of 14)\n    Line #1258 (got 15 columns instead of 14)\n    Line #1259 (got 15 columns instead of 14)\n    Line #1260 (got 15 columns instead of 14)\n    Line #1261 (got 15 columns instead of 14)\n    Line #1262 (got 15 columns instead of 14)\n    Line #1263 (got 15 columns instead of 14)\n    Line #1264 (got 15 columns instead of 14)\n    Line #1265 (got 15 columns instead of 14)\n    Line #1266 (got 15 columns instead of 14)\n    Line #1267 (got 15 columns instead of 14)\n    Line #1268 (got 15 columns instead of 14)\n    Line #1269 (got 15 columns instead of 14)\n    Line #1270 (got 15 columns instead of 14)\n    Line #1271 (got 15 columns instead of 14)\n    Line #1272 (got 15 columns instead of 14)\n    Line #1273 (got 15 columns instead of 14)\n    Line #1274 (got 15 columns instead of 14)\n    Line #1275 (got 15 columns instead of 14)\n    Line #1276 (got 15 columns instead of 14)\n    Line #1277 (got 15 columns instead of 14)\n    Line #1278 (got 15 columns instead of 14)\n    Line #1279 (got 15 columns instead of 14)\n    Line #1280 (got 15 columns instead of 14)\n    Line #1281 (got 15 columns instead of 14)\n    Line #1282 (got 15 columns instead of 14)\n    Line #1283 (got 15 columns instead of 14)\n    Line #1284 (got 15 columns instead of 14)\n    Line #1285 (got 15 columns instead of 14)\n    Line #1286 (got 17 columns instead of 14)\n    Line #1287 (got 15 columns instead of 14)\n    Line #1288 (got 15 columns instead of 14)\n    Line #1289 (got 15 columns instead of 14)\n    Line #1290 (got 15 columns instead of 14)\n    Line #1291 (got 15 columns instead of 14)\n    Line #1292 (got 15 columns instead of 14)\n    Line #1293 (got 15 columns instead of 14)\n    Line #1294 (got 15 columns instead of 14)\n    Line #1295 (got 15 columns instead of 14)\n    Line #1296 (got 15 columns instead of 14)\n    Line #1297 (got 15 columns instead of 14)\n    Line #1298 (got 15 columns instead of 14)\n    Line #1299 (got 15 columns instead of 14)\n    Line #1300 (got 15 columns instead of 14)\n    Line #1301 (got 15 columns instead of 14)\n    Line #1302 (got 15 columns instead of 14)\n    Line #1303 (got 15 columns instead of 14)\n    Line #1304 (got 15 columns instead of 14)\n    Line #1305 (got 15 columns instead of 14)\n    Line #1306 (got 15 columns instead of 14)\n    Line #1307 (got 15 columns instead of 14)\n    Line #1308 (got 15 columns instead of 14)\n    Line #1309 (got 15 columns instead of 14)\n    Line #1310 (got 15 columns instead of 14)\n    Line #1311 (got 15 columns instead of 14)\n    Line #1312 (got 15 columns instead of 14)\n    Line #1313 (got 15 columns instead of 14)"
          ]
        }
      ],
      "source": [
        "dataset = np.genfromtxt('DATA_01_titanic_with_duplicites.csv', delimiter=',')"
      ]
    },
    {
      "cell_type": "markdown",
      "metadata": {
        "id": "TAq4jrxt3TYu"
      },
      "source": [
        "Nelze použít, delimiter ignoruje \"\" a bere každý výraz za čárkou jako další hodnotu >> chyba:  Line #xxx (got xx columns instead of xx).\n",
        "Dataset má 14 hodnot/ řádek ale některé hodnoty jako \"name\" nebo \"home.dest\" jsou ve formátu  \"text,text\" což numpy čte jako dvě hodnoty nikoliv jednu.\n",
        "\n",
        "řešení je použítí pandas"
      ]
    },
    {
      "cell_type": "code",
      "execution_count": 3,
      "metadata": {
        "id": "_YHHZlGK3TYu"
      },
      "outputs": [],
      "source": [
        "import pandas as pd #import pandas"
      ]
    },
    {
      "cell_type": "code",
      "execution_count": 4,
      "metadata": {
        "id": "xuFUhih33TYv",
        "outputId": "b1260c37-3b64-4118-fb1c-a053f5af409d",
        "colab": {
          "base_uri": "https://localhost:8080/"
        }
      },
      "outputs": [
        {
          "output_type": "stream",
          "name": "stdout",
          "text": [
            "   pclass  survived                           name     sex   age  sibsp  \\\n",
            "0     1.0       1.0  Allen, Miss. Elisabeth Walton  female  29.0    0.0   \n",
            "\n",
            "   parch ticket      fare cabin embarked boat  body     home.dest  \n",
            "0    0.0  24160  211.3375    B5        S    2   NaN  St Louis, MO  \n"
          ]
        }
      ],
      "source": [
        "dataset = pd.read_csv('DATA_01_titanic_with_duplicites.csv') #načtení datasetu jako pandas DataFrame\n",
        "print(dataset.head(1))  #vypis jednoho řádku od začátku datasetu"
      ]
    },
    {
      "cell_type": "code",
      "execution_count": 5,
      "metadata": {
        "id": "8wxn9lX43TYv"
      },
      "outputs": [],
      "source": [
        "#převod PD dataframe do NP \n",
        "dataset_np = dataset.to_numpy()"
      ]
    },
    {
      "cell_type": "markdown",
      "metadata": {
        "id": "eJP7RjD73TYv"
      },
      "source": [
        "## Preprocessing dat"
      ]
    },
    {
      "cell_type": "markdown",
      "metadata": {
        "id": "px2ikO0G3TYw"
      },
      "source": [
        "### Detekce a odstranění duplicit"
      ]
    },
    {
      "cell_type": "code",
      "execution_count": null,
      "metadata": {
        "id": "-kXcsPf93TYw"
      },
      "outputs": [],
      "source": [
        "import timeit #pro měření trvání programu"
      ]
    },
    {
      "cell_type": "code",
      "execution_count": null,
      "metadata": {
        "id": "nFTPYkhp3TYw",
        "outputId": "eb7198f1-837b-4f1f-ec8f-1653352566ab",
        "colab": {
          "base_uri": "https://localhost:8080/"
        }
      },
      "outputs": [
        {
          "output_type": "stream",
          "name": "stdout",
          "text": [
            "Pandas nalezeno 3 duplikátů za 0.008948540000005778 sec.\n"
          ]
        }
      ],
      "source": [
        "#počet duplikátů\n",
        "#metoda 1 - panda dataframe.duplicated(), mnohonásobně rychlejší (0.01 sec)\n",
        "tic = timeit.default_timer()\n",
        "\n",
        "i = dataset.duplicated().sum()\n",
        "\n",
        "toc = timeit.default_timer()\n",
        "elapsed_time = toc-tic\n",
        "print(f\"Pandas nalezeno {i} duplikátů za {elapsed_time} sec.\")        "
      ]
    },
    {
      "cell_type": "code",
      "execution_count": null,
      "metadata": {
        "id": "fCeSJOmx3TYx"
      },
      "outputs": [],
      "source": [
        "#metoda 2 - primitivní for, nevyplatí se - nízká rychlost (~100 sec)\n",
        "tic = timeit.default_timer()\n",
        "\n",
        "j = 0\n",
        "out = list(\"\")\n",
        "for j in range(len(dataset_np)):\n",
        "    for k in range((j+1),len(dataset_np)):\n",
        "        if str(dataset_np[j]) == str(dataset_np[k]):\n",
        "            out.append(k)\n",
        "\n",
        "toc = timeit.default_timer()\n",
        "print(\"For nalezeno\",len(out), \" duplikátů za \", toc-tic,\" sec.\")   "
      ]
    },
    {
      "cell_type": "code",
      "execution_count": null,
      "metadata": {
        "id": "t_ZxGdKf3TYx",
        "outputId": "69a27cee-75d2-4593-c4fd-d280d4f4ca86"
      },
      "outputs": [
        {
          "name": "stdout",
          "output_type": "stream",
          "text": [
            "1313\n"
          ]
        }
      ],
      "source": [
        "print(len(dataset))#počet řádků před odstaněním duplicit"
      ]
    },
    {
      "cell_type": "markdown",
      "metadata": {
        "id": "eWqmeS_i3TYx"
      },
      "source": [
        "#### Odstanění duplikátů:"
      ]
    },
    {
      "cell_type": "code",
      "execution_count": 6,
      "metadata": {
        "id": "HcmbpBrl3TYy",
        "outputId": "1a3ab10f-7567-4c1f-e094-5ada92a2c0c9",
        "colab": {
          "base_uri": "https://localhost:8080/"
        }
      },
      "outputs": [
        {
          "output_type": "stream",
          "name": "stdout",
          "text": [
            "1310\n"
          ]
        }
      ],
      "source": [
        "#metoda1 - panda\n",
        "dataset = dataset.drop_duplicates()\n",
        "\n",
        "print(len(dataset)) #řádky po odstranění"
      ]
    },
    {
      "cell_type": "markdown",
      "metadata": {
        "id": "ppjA0Cqo3TYy"
      },
      "source": [
        "#### Ověření typu hodnot (např jestli v age není string, ...)"
      ]
    },
    {
      "cell_type": "markdown",
      "metadata": {
        "id": "AQbelKu-3TYy"
      },
      "source": [
        "Pandas nedovolí vložit String do sloupce s float. \n",
        "Pokud je v datasetu chyba již při načítání tak sloupec přetypuje. Proto je vhodné zkontrolovat datové typy ručně:"
      ]
    },
    {
      "cell_type": "code",
      "execution_count": null,
      "metadata": {
        "id": "IKtJDRpW3TYy",
        "outputId": "8afd9eac-626f-43ff-b638-f1a20761c87b"
      },
      "outputs": [
        {
          "name": "stdout",
          "output_type": "stream",
          "text": [
            "pclass       float64\n",
            "survived     float64\n",
            "name          object\n",
            "sex           object\n",
            "age          float64\n",
            "sibsp        float64\n",
            "parch        float64\n",
            "ticket        object\n",
            "fare         float64\n",
            "cabin         object\n",
            "embarked      object\n",
            "boat          object\n",
            "body         float64\n",
            "home.dest     object\n",
            "dtype: object\n"
          ]
        }
      ],
      "source": [
        "print(dataset.dtypes) # vypíše datové typy sloupců"
      ]
    },
    {
      "cell_type": "markdown",
      "metadata": {
        "id": "BJ6UncfQ3TYz"
      },
      "source": [
        "#### Ověření rozsahu (např jestli v age není -5, 325, ...)"
      ]
    },
    {
      "cell_type": "code",
      "execution_count": null,
      "metadata": {
        "id": "DozO12Zu3TYz",
        "outputId": "570b2ffc-80fc-4994-e9f0-2f5bf9f8ff03"
      },
      "outputs": [
        {
          "data": {
            "text/plain": [
              "0        True\n",
              "1        True\n",
              "2        True\n",
              "3        True\n",
              "4        True\n",
              "        ...  \n",
              "1308    False\n",
              "1309     True\n",
              "1310     True\n",
              "1311     True\n",
              "1312    False\n",
              "Name: age, Length: 1310, dtype: bool"
            ]
          },
          "execution_count": 11,
          "metadata": {},
          "output_type": "execute_result"
        }
      ],
      "source": [
        "max = 100\n",
        "min = 0\n",
        "\n",
        "dataset[\"age\"].between(min,max) #vrací true/false ale započítá None jako chybu"
      ]
    },
    {
      "cell_type": "code",
      "execution_count": null,
      "metadata": {
        "id": "KprRfkKk3TYz",
        "outputId": "465589fe-1fdb-4e30-bdd2-9745ef65ba18"
      },
      "outputs": [
        {
          "name": "stdout",
          "output_type": "stream",
          "text": [
            "Věk cestujících je v rozsahu od 0 - 100\n"
          ]
        }
      ],
      "source": [
        "if float(dataset[\"age\"].min()) > min and float(dataset[\"age\"].max()) < max:\n",
        "    print(f\"Věk cestujících je v rozsahu od {min} - {max}\")\n",
        "else:\n",
        "    print(f\"Věk cestujících není v rozsahu od {min} - {max}\")"
      ]
    },
    {
      "cell_type": "markdown",
      "metadata": {
        "id": "EY8IiRIt3TYz"
      },
      "source": [
        "### Sumarizace"
      ]
    },
    {
      "cell_type": "markdown",
      "metadata": {
        "id": "sMkW9dSl3TYz"
      },
      "source": [
        "Dokumentace: https://pandas.pydata.org/pandas-docs/stable/getting_started/intro_tutorials/06_calculate_statistics.html"
      ]
    },
    {
      "cell_type": "code",
      "execution_count": null,
      "metadata": {
        "id": "YDilBE2R3TYz",
        "outputId": "aa0eea95-5009-4a4c-89ae-804f3509634c"
      },
      "outputs": [
        {
          "data": {
            "text/plain": [
              "pclass       3004.0000\n",
              "survived      500.0000\n",
              "age         31255.6667\n",
              "sibsp         653.0000\n",
              "parch         504.0000\n",
              "fare        43550.4869\n",
              "body        19458.0000\n",
              "dtype: float64"
            ]
          },
          "execution_count": 13,
          "metadata": {},
          "output_type": "execute_result"
        }
      ],
      "source": [
        "dataset.sum() #provede součet včech číselných hodnot v sloupci a vypíše je"
      ]
    },
    {
      "cell_type": "code",
      "execution_count": null,
      "metadata": {
        "id": "8pbFSXn-3TY0",
        "outputId": "214d5ed4-6c7f-4c6b-deef-142c9e9529de"
      },
      "outputs": [
        {
          "data": {
            "text/html": [
              "<div>\n",
              "<style scoped>\n",
              "    .dataframe tbody tr th:only-of-type {\n",
              "        vertical-align: middle;\n",
              "    }\n",
              "\n",
              "    .dataframe tbody tr th {\n",
              "        vertical-align: top;\n",
              "    }\n",
              "\n",
              "    .dataframe thead th {\n",
              "        text-align: right;\n",
              "    }\n",
              "</style>\n",
              "<table border=\"1\" class=\"dataframe\">\n",
              "  <thead>\n",
              "    <tr style=\"text-align: right;\">\n",
              "      <th></th>\n",
              "      <th>pclass</th>\n",
              "      <th>survived</th>\n",
              "      <th>age</th>\n",
              "      <th>sibsp</th>\n",
              "      <th>parch</th>\n",
              "      <th>fare</th>\n",
              "      <th>body</th>\n",
              "    </tr>\n",
              "  </thead>\n",
              "  <tbody>\n",
              "    <tr>\n",
              "      <th>count</th>\n",
              "      <td>1309.000000</td>\n",
              "      <td>1309.000000</td>\n",
              "      <td>1046.000000</td>\n",
              "      <td>1309.000000</td>\n",
              "      <td>1309.000000</td>\n",
              "      <td>1308.000000</td>\n",
              "      <td>121.000000</td>\n",
              "    </tr>\n",
              "    <tr>\n",
              "      <th>mean</th>\n",
              "      <td>2.294882</td>\n",
              "      <td>0.381971</td>\n",
              "      <td>29.881135</td>\n",
              "      <td>0.498854</td>\n",
              "      <td>0.385027</td>\n",
              "      <td>33.295479</td>\n",
              "      <td>160.809917</td>\n",
              "    </tr>\n",
              "    <tr>\n",
              "      <th>std</th>\n",
              "      <td>0.837836</td>\n",
              "      <td>0.486055</td>\n",
              "      <td>14.413500</td>\n",
              "      <td>1.041658</td>\n",
              "      <td>0.865560</td>\n",
              "      <td>51.758668</td>\n",
              "      <td>97.696922</td>\n",
              "    </tr>\n",
              "    <tr>\n",
              "      <th>min</th>\n",
              "      <td>1.000000</td>\n",
              "      <td>0.000000</td>\n",
              "      <td>0.166700</td>\n",
              "      <td>0.000000</td>\n",
              "      <td>0.000000</td>\n",
              "      <td>0.000000</td>\n",
              "      <td>1.000000</td>\n",
              "    </tr>\n",
              "    <tr>\n",
              "      <th>25%</th>\n",
              "      <td>2.000000</td>\n",
              "      <td>0.000000</td>\n",
              "      <td>21.000000</td>\n",
              "      <td>0.000000</td>\n",
              "      <td>0.000000</td>\n",
              "      <td>7.895800</td>\n",
              "      <td>72.000000</td>\n",
              "    </tr>\n",
              "    <tr>\n",
              "      <th>50%</th>\n",
              "      <td>3.000000</td>\n",
              "      <td>0.000000</td>\n",
              "      <td>28.000000</td>\n",
              "      <td>0.000000</td>\n",
              "      <td>0.000000</td>\n",
              "      <td>14.454200</td>\n",
              "      <td>155.000000</td>\n",
              "    </tr>\n",
              "    <tr>\n",
              "      <th>75%</th>\n",
              "      <td>3.000000</td>\n",
              "      <td>1.000000</td>\n",
              "      <td>39.000000</td>\n",
              "      <td>1.000000</td>\n",
              "      <td>0.000000</td>\n",
              "      <td>31.275000</td>\n",
              "      <td>256.000000</td>\n",
              "    </tr>\n",
              "    <tr>\n",
              "      <th>max</th>\n",
              "      <td>3.000000</td>\n",
              "      <td>1.000000</td>\n",
              "      <td>80.000000</td>\n",
              "      <td>8.000000</td>\n",
              "      <td>9.000000</td>\n",
              "      <td>512.329200</td>\n",
              "      <td>328.000000</td>\n",
              "    </tr>\n",
              "  </tbody>\n",
              "</table>\n",
              "</div>"
            ],
            "text/plain": [
              "            pclass     survived          age        sibsp        parch  \\\n",
              "count  1309.000000  1309.000000  1046.000000  1309.000000  1309.000000   \n",
              "mean      2.294882     0.381971    29.881135     0.498854     0.385027   \n",
              "std       0.837836     0.486055    14.413500     1.041658     0.865560   \n",
              "min       1.000000     0.000000     0.166700     0.000000     0.000000   \n",
              "25%       2.000000     0.000000    21.000000     0.000000     0.000000   \n",
              "50%       3.000000     0.000000    28.000000     0.000000     0.000000   \n",
              "75%       3.000000     1.000000    39.000000     1.000000     0.000000   \n",
              "max       3.000000     1.000000    80.000000     8.000000     9.000000   \n",
              "\n",
              "              fare        body  \n",
              "count  1308.000000  121.000000  \n",
              "mean     33.295479  160.809917  \n",
              "std      51.758668   97.696922  \n",
              "min       0.000000    1.000000  \n",
              "25%       7.895800   72.000000  \n",
              "50%      14.454200  155.000000  \n",
              "75%      31.275000  256.000000  \n",
              "max     512.329200  328.000000  "
            ]
          },
          "execution_count": 14,
          "metadata": {},
          "output_type": "execute_result"
        }
      ],
      "source": [
        "dataset.describe() #vypíše užitečné informace o hodnotách "
      ]
    },
    {
      "cell_type": "markdown",
      "metadata": {
        "id": "ebOW7JpK3TY0"
      },
      "source": [
        "## Úprava dat pro potřeby vizualizace "
      ]
    },
    {
      "cell_type": "markdown",
      "metadata": {
        "id": "LAQQWmuZ3TY0"
      },
      "source": [
        "### Rozdělení dat v sloupci na více sloupců"
      ]
    },
    {
      "cell_type": "code",
      "execution_count": null,
      "metadata": {
        "id": "1eZJ19HY3TY0",
        "outputId": "3466049b-da37-4be9-cfd6-01b43c0923b8"
      },
      "outputs": [
        {
          "data": {
            "text/plain": [
              "0    B5\n",
              "Name: cabin, dtype: object"
            ]
          },
          "execution_count": 15,
          "metadata": {},
          "output_type": "execute_result"
        }
      ],
      "source": [
        "dataset[\"cabin\"].head(1) #řádek na ukázku"
      ]
    },
    {
      "cell_type": "markdown",
      "metadata": {
        "id": "1MafyhW03TY0"
      },
      "source": [
        "B5 znamená Kabina číslo 5 paluba B"
      ]
    },
    {
      "cell_type": "code",
      "execution_count": null,
      "metadata": {
        "id": "9xpOAP4L3TY0",
        "outputId": "afeefbe6-09f4-4d5e-a3fe-3b1a5e22dd14"
      },
      "outputs": [
        {
          "data": {
            "text/html": [
              "<div>\n",
              "<style scoped>\n",
              "    .dataframe tbody tr th:only-of-type {\n",
              "        vertical-align: middle;\n",
              "    }\n",
              "\n",
              "    .dataframe tbody tr th {\n",
              "        vertical-align: top;\n",
              "    }\n",
              "\n",
              "    .dataframe thead th {\n",
              "        text-align: right;\n",
              "    }\n",
              "</style>\n",
              "<table border=\"1\" class=\"dataframe\">\n",
              "  <thead>\n",
              "    <tr style=\"text-align: right;\">\n",
              "      <th></th>\n",
              "      <th>pclass</th>\n",
              "      <th>survived</th>\n",
              "      <th>name</th>\n",
              "      <th>sex</th>\n",
              "      <th>age</th>\n",
              "      <th>sibsp</th>\n",
              "      <th>parch</th>\n",
              "      <th>ticket</th>\n",
              "      <th>fare</th>\n",
              "      <th>cabin</th>\n",
              "      <th>embarked</th>\n",
              "      <th>boat</th>\n",
              "      <th>body</th>\n",
              "      <th>home.dest</th>\n",
              "      <th>deck</th>\n",
              "    </tr>\n",
              "  </thead>\n",
              "  <tbody>\n",
              "    <tr>\n",
              "      <th>0</th>\n",
              "      <td>1.0</td>\n",
              "      <td>1.0</td>\n",
              "      <td>Allen, Miss. Elisabeth Walton</td>\n",
              "      <td>female</td>\n",
              "      <td>29.0000</td>\n",
              "      <td>0.0</td>\n",
              "      <td>0.0</td>\n",
              "      <td>24160</td>\n",
              "      <td>211.3375</td>\n",
              "      <td>5</td>\n",
              "      <td>S</td>\n",
              "      <td>2</td>\n",
              "      <td>NaN</td>\n",
              "      <td>St Louis, MO</td>\n",
              "      <td>B</td>\n",
              "    </tr>\n",
              "    <tr>\n",
              "      <th>1</th>\n",
              "      <td>1.0</td>\n",
              "      <td>1.0</td>\n",
              "      <td>Allison, Master. Hudson Trevor</td>\n",
              "      <td>male</td>\n",
              "      <td>0.9167</td>\n",
              "      <td>1.0</td>\n",
              "      <td>2.0</td>\n",
              "      <td>113781</td>\n",
              "      <td>151.5500</td>\n",
              "      <td>C22 C26</td>\n",
              "      <td>S</td>\n",
              "      <td>11</td>\n",
              "      <td>NaN</td>\n",
              "      <td>Montreal, PQ / Chesterville, ON</td>\n",
              "      <td>None</td>\n",
              "    </tr>\n",
              "    <tr>\n",
              "      <th>2</th>\n",
              "      <td>1.0</td>\n",
              "      <td>0.0</td>\n",
              "      <td>Allison, Miss. Helen Loraine</td>\n",
              "      <td>female</td>\n",
              "      <td>2.0000</td>\n",
              "      <td>1.0</td>\n",
              "      <td>2.0</td>\n",
              "      <td>113781</td>\n",
              "      <td>151.5500</td>\n",
              "      <td>C22 C26</td>\n",
              "      <td>S</td>\n",
              "      <td>NaN</td>\n",
              "      <td>NaN</td>\n",
              "      <td>Montreal, PQ / Chesterville, ON</td>\n",
              "      <td>None</td>\n",
              "    </tr>\n",
              "    <tr>\n",
              "      <th>3</th>\n",
              "      <td>1.0</td>\n",
              "      <td>0.0</td>\n",
              "      <td>Allison, Mr. Hudson Joshua Creighton</td>\n",
              "      <td>male</td>\n",
              "      <td>30.0000</td>\n",
              "      <td>1.0</td>\n",
              "      <td>2.0</td>\n",
              "      <td>113781</td>\n",
              "      <td>151.5500</td>\n",
              "      <td>C22 C26</td>\n",
              "      <td>S</td>\n",
              "      <td>NaN</td>\n",
              "      <td>135.0</td>\n",
              "      <td>Montreal, PQ / Chesterville, ON</td>\n",
              "      <td>None</td>\n",
              "    </tr>\n",
              "    <tr>\n",
              "      <th>4</th>\n",
              "      <td>1.0</td>\n",
              "      <td>0.0</td>\n",
              "      <td>Allison, Mrs. Hudson J C (Bessie Waldo Daniels)</td>\n",
              "      <td>female</td>\n",
              "      <td>25.0000</td>\n",
              "      <td>1.0</td>\n",
              "      <td>2.0</td>\n",
              "      <td>113781</td>\n",
              "      <td>151.5500</td>\n",
              "      <td>C22 C26</td>\n",
              "      <td>S</td>\n",
              "      <td>NaN</td>\n",
              "      <td>NaN</td>\n",
              "      <td>Montreal, PQ / Chesterville, ON</td>\n",
              "      <td>None</td>\n",
              "    </tr>\n",
              "    <tr>\n",
              "      <th>...</th>\n",
              "      <td>...</td>\n",
              "      <td>...</td>\n",
              "      <td>...</td>\n",
              "      <td>...</td>\n",
              "      <td>...</td>\n",
              "      <td>...</td>\n",
              "      <td>...</td>\n",
              "      <td>...</td>\n",
              "      <td>...</td>\n",
              "      <td>...</td>\n",
              "      <td>...</td>\n",
              "      <td>...</td>\n",
              "      <td>...</td>\n",
              "      <td>...</td>\n",
              "      <td>...</td>\n",
              "    </tr>\n",
              "    <tr>\n",
              "      <th>1308</th>\n",
              "      <td>3.0</td>\n",
              "      <td>0.0</td>\n",
              "      <td>Zabour, Miss. Thamine</td>\n",
              "      <td>female</td>\n",
              "      <td>NaN</td>\n",
              "      <td>1.0</td>\n",
              "      <td>0.0</td>\n",
              "      <td>2665</td>\n",
              "      <td>14.4542</td>\n",
              "      <td>None</td>\n",
              "      <td>C</td>\n",
              "      <td>NaN</td>\n",
              "      <td>NaN</td>\n",
              "      <td>NaN</td>\n",
              "      <td>None</td>\n",
              "    </tr>\n",
              "    <tr>\n",
              "      <th>1309</th>\n",
              "      <td>3.0</td>\n",
              "      <td>0.0</td>\n",
              "      <td>Zakarian, Mr. Mapriededer</td>\n",
              "      <td>male</td>\n",
              "      <td>26.5000</td>\n",
              "      <td>0.0</td>\n",
              "      <td>0.0</td>\n",
              "      <td>2656</td>\n",
              "      <td>7.2250</td>\n",
              "      <td>None</td>\n",
              "      <td>C</td>\n",
              "      <td>NaN</td>\n",
              "      <td>304.0</td>\n",
              "      <td>NaN</td>\n",
              "      <td>None</td>\n",
              "    </tr>\n",
              "    <tr>\n",
              "      <th>1310</th>\n",
              "      <td>3.0</td>\n",
              "      <td>0.0</td>\n",
              "      <td>Zakarian, Mr. Ortin</td>\n",
              "      <td>male</td>\n",
              "      <td>27.0000</td>\n",
              "      <td>0.0</td>\n",
              "      <td>0.0</td>\n",
              "      <td>2670</td>\n",
              "      <td>7.2250</td>\n",
              "      <td>None</td>\n",
              "      <td>C</td>\n",
              "      <td>NaN</td>\n",
              "      <td>NaN</td>\n",
              "      <td>NaN</td>\n",
              "      <td>None</td>\n",
              "    </tr>\n",
              "    <tr>\n",
              "      <th>1311</th>\n",
              "      <td>3.0</td>\n",
              "      <td>0.0</td>\n",
              "      <td>Zimmerman, Mr. Leo</td>\n",
              "      <td>male</td>\n",
              "      <td>29.0000</td>\n",
              "      <td>0.0</td>\n",
              "      <td>0.0</td>\n",
              "      <td>315082</td>\n",
              "      <td>7.8750</td>\n",
              "      <td>None</td>\n",
              "      <td>S</td>\n",
              "      <td>NaN</td>\n",
              "      <td>NaN</td>\n",
              "      <td>NaN</td>\n",
              "      <td>None</td>\n",
              "    </tr>\n",
              "    <tr>\n",
              "      <th>1312</th>\n",
              "      <td>NaN</td>\n",
              "      <td>NaN</td>\n",
              "      <td>NaN</td>\n",
              "      <td>NaN</td>\n",
              "      <td>NaN</td>\n",
              "      <td>NaN</td>\n",
              "      <td>NaN</td>\n",
              "      <td>NaN</td>\n",
              "      <td>NaN</td>\n",
              "      <td>None</td>\n",
              "      <td>NaN</td>\n",
              "      <td>NaN</td>\n",
              "      <td>NaN</td>\n",
              "      <td>NaN</td>\n",
              "      <td>None</td>\n",
              "    </tr>\n",
              "  </tbody>\n",
              "</table>\n",
              "<p>1310 rows × 15 columns</p>\n",
              "</div>"
            ],
            "text/plain": [
              "      pclass  survived                                             name  \\\n",
              "0        1.0       1.0                    Allen, Miss. Elisabeth Walton   \n",
              "1        1.0       1.0                   Allison, Master. Hudson Trevor   \n",
              "2        1.0       0.0                     Allison, Miss. Helen Loraine   \n",
              "3        1.0       0.0             Allison, Mr. Hudson Joshua Creighton   \n",
              "4        1.0       0.0  Allison, Mrs. Hudson J C (Bessie Waldo Daniels)   \n",
              "...      ...       ...                                              ...   \n",
              "1308     3.0       0.0                            Zabour, Miss. Thamine   \n",
              "1309     3.0       0.0                        Zakarian, Mr. Mapriededer   \n",
              "1310     3.0       0.0                              Zakarian, Mr. Ortin   \n",
              "1311     3.0       0.0                               Zimmerman, Mr. Leo   \n",
              "1312     NaN       NaN                                              NaN   \n",
              "\n",
              "         sex      age  sibsp  parch  ticket      fare    cabin embarked boat  \\\n",
              "0     female  29.0000    0.0    0.0   24160  211.3375        5        S    2   \n",
              "1       male   0.9167    1.0    2.0  113781  151.5500  C22 C26        S   11   \n",
              "2     female   2.0000    1.0    2.0  113781  151.5500  C22 C26        S  NaN   \n",
              "3       male  30.0000    1.0    2.0  113781  151.5500  C22 C26        S  NaN   \n",
              "4     female  25.0000    1.0    2.0  113781  151.5500  C22 C26        S  NaN   \n",
              "...      ...      ...    ...    ...     ...       ...      ...      ...  ...   \n",
              "1308  female      NaN    1.0    0.0    2665   14.4542     None        C  NaN   \n",
              "1309    male  26.5000    0.0    0.0    2656    7.2250     None        C  NaN   \n",
              "1310    male  27.0000    0.0    0.0    2670    7.2250     None        C  NaN   \n",
              "1311    male  29.0000    0.0    0.0  315082    7.8750     None        S  NaN   \n",
              "1312     NaN      NaN    NaN    NaN     NaN       NaN     None      NaN  NaN   \n",
              "\n",
              "       body                        home.dest  deck  \n",
              "0       NaN                     St Louis, MO     B  \n",
              "1       NaN  Montreal, PQ / Chesterville, ON  None  \n",
              "2       NaN  Montreal, PQ / Chesterville, ON  None  \n",
              "3     135.0  Montreal, PQ / Chesterville, ON  None  \n",
              "4       NaN  Montreal, PQ / Chesterville, ON  None  \n",
              "...     ...                              ...   ...  \n",
              "1308    NaN                              NaN  None  \n",
              "1309  304.0                              NaN  None  \n",
              "1310    NaN                              NaN  None  \n",
              "1311    NaN                              NaN  None  \n",
              "1312    NaN                              NaN  None  \n",
              "\n",
              "[1310 rows x 15 columns]"
            ]
          },
          "execution_count": 16,
          "metadata": {},
          "output_type": "execute_result"
        }
      ],
      "source": [
        "# problém když má osoba uvedené 2 kabiny, prozatím None\n",
        "deck = list()\n",
        "cabin = list()\n",
        "for data in dataset[\"cabin\"]:\n",
        "    data = str(data)\n",
        "    if data == None or data == \"nan\":\n",
        "        deck.append(None)\n",
        "        cabin.append(None)\n",
        "    else:\n",
        "        if not \" \" in data:\n",
        "            data = list(data)\n",
        "            if data[0].isalpha():\n",
        "                deck.append(data.pop(0))\n",
        "            if len(data) > 0:\n",
        "                num = int(''.join(data))\n",
        "                cabin.append(num)\n",
        "            else:\n",
        "                cabin.append(None)\n",
        "        else:\n",
        "            cabin.append(data)\n",
        "            deck.append(None)\n",
        "\n",
        "dataset[\"cabin\"] = cabin\n",
        "dataset[\"deck\"] = deck\n",
        "\n",
        "dataset"
      ]
    },
    {
      "cell_type": "markdown",
      "source": [
        "##### Věkové kategorie přeživších\n"
      ],
      "metadata": {
        "id": "ciZe_3C_qQMw"
      }
    },
    {
      "cell_type": "code",
      "source": [
        "surv = dataset.loc[dataset['survived'] == 1.0]\n",
        "lost = dataset.loc[dataset['survived'] == 0.0]\n",
        "print(len(surv),len(lost))\n",
        "\n",
        "categories=[[0,19],[20,32],[33,48],[48,62],[62,100]]\n",
        "categories_str=[\"[0-19]\",\"[20-32]\",\"[33-47]\",\"[48-61]\",\"[62+]\"]\n",
        " \n",
        "surv_male=surv.loc[(surv[\"sex\"]==\"male\")]\n",
        "surv_female=surv.loc[(surv[\"sex\"]==\"female\")]\n",
        "#print(f\"Male survivors: {len(surv_male)} ____ Female survivors: {len(surv_female)}\")\n",
        "padding=6\n",
        "print(f\"{'Male':<{padding}}\",\"|\",f\"{'Female':>{padding}}\")\n",
        "print(f\"{'':{'-'}>{padding}}\",\"|\",f\"{'':{'-'}>{padding}}\")\n",
        "print(f\"{len(surv_male):<{padding}}\",\"|\",f\"{len(surv_female):>{padding}}\")\n",
        "\n",
        "surv_cat_male=[]\n",
        "surv_cat_female=[]\n",
        "for cat_range in categories:\n",
        "  surv_cat_male.append(surv_male.loc[surv_male[\"age\"].between(cat_range[0],cat_range[1])])\n",
        "  surv_cat_female.append(surv_female.loc[surv_female[\"age\"].between(cat_range[0],cat_range[1])])\n",
        "  #print(len(surv_cat_male[-1]),len(surv_cat_female[-1]))\n",
        "  print(f\"{len(surv_cat_male[-1]) :<{padding}}\",\"|\",f\"{len(surv_cat_female[-1]):>{padding}}\")\n",
        "plt.rcdefaults()\n",
        "fig,ax = plt.subplots()\n",
        "for idx,_list in enumerate(surv_cat_male):\n",
        "  males_len=len(_list)\n",
        "  females_len=len(surv_cat_female[idx])\n",
        "\n",
        "  ax.barh(idx+0.2,females_len,0.3,color=\"red\")\n",
        "  ax.barh(idx-0.2,males_len,0.3,color=\"blue\")\n",
        "\n",
        "ax.set_yticks(range(5),categories_str)\n",
        "ax.invert_yaxis()\n",
        "plt.show()"
      ],
      "metadata": {
        "colab": {
          "base_uri": "https://localhost:8080/",
          "height": 586
        },
        "id": "klQzClEtqTCg",
        "outputId": "6d0f1ce1-ff0f-414b-b2ad-e471c91d5a9c"
      },
      "execution_count": 24,
      "outputs": [
        {
          "output_type": "stream",
          "name": "stdout",
          "text": [
            "500 809\n",
            "Male   | Female\n",
            "------ | ------\n",
            "161    |    339\n",
            "34     |     72\n",
            "61     |    104\n",
            "27     |     79\n",
            "15     |     38\n",
            "2      |      6\n"
          ]
        },
        {
          "output_type": "display_data",
          "data": {
            "text/plain": [
              "<Figure size 640x480 with 1 Axes>"
            ],
            "image/png": "[encoded data removed]"
          },
          "metadata": {}
        }
      ]
    },
    {
      "cell_type": "markdown",
      "metadata": {
        "id": "80vZ9vCL3TY1"
      },
      "source": [
        "### Rozdělení souboru na části"
      ]
    },
    {
      "cell_type": "markdown",
      "source": [
        "##### Věkové kategorie přeživších\n"
      ],
      "metadata": {
        "id": "-qVD1QEGqHwq"
      }
    },
    {
      "cell_type": "markdown",
      "metadata": {
        "id": "FMFiOw5U3TY1"
      },
      "source": [
        "Získání přeživších"
      ]
    },
    {
      "cell_type": "code",
      "execution_count": 22,
      "metadata": {
        "id": "ZghmOpej3TY1",
        "outputId": "e1a3d184-c715-4953-cba3-e982d895b9c7",
        "colab": {
          "base_uri": "https://localhost:8080/",
          "height": 586
        }
      },
      "outputs": [
        {
          "output_type": "stream",
          "name": "stdout",
          "text": [
            "500 809\n",
            "Male   | Female\n",
            "------ | ------\n",
            "161    |    339\n",
            "34     |     72\n",
            "61     |    104\n",
            "27     |     79\n",
            "15     |     38\n",
            "2      |      6\n"
          ]
        },
        {
          "output_type": "display_data",
          "data": {
            "text/plain": [
              "<Figure size 640x480 with 1 Axes>"
            ],
            "image/png": "[encoded data removed]"
          },
          "metadata": {}
        }
      ],
      "source": [
        "surv = dataset.loc[dataset['survived'] == 1.0]\n",
        "lost = dataset.loc[dataset['survived'] == 0.0]\n",
        "print(len(surv),len(lost))\n",
        "\n",
        "categories=[[0,19],[20,32],[33,48],[48,62],[62,100]]\n",
        "categories_str=[\"[0-19]\",\"[20-32]\",\"[33-47]\",\"[48-61]\",\"[62+]\"]\n",
        " \n",
        "surv_male=surv.loc[(surv[\"sex\"]==\"male\")]\n",
        "surv_female=surv.loc[(surv[\"sex\"]==\"female\")]\n",
        "#print(f\"Male survivors: {len(surv_male)} ____ Female survivors: {len(surv_female)}\")\n",
        "padding=6\n",
        "print(f\"{'Male':<{padding}}\",\"|\",f\"{'Female':>{padding}}\")\n",
        "print(f\"{'':{'-'}>{padding}}\",\"|\",f\"{'':{'-'}>{padding}}\")\n",
        "print(f\"{len(surv_male):<{padding}}\",\"|\",f\"{len(surv_female):>{padding}}\")\n",
        "\n",
        "surv_cat_male=[]\n",
        "surv_cat_female=[]\n",
        "for cat_range in categories:\n",
        "  surv_cat_male.append(surv_male.loc[surv_male[\"age\"].between(cat_range[0],cat_range[1])])\n",
        "  surv_cat_female.append(surv_female.loc[surv_female[\"age\"].between(cat_range[0],cat_range[1])])\n",
        "  #print(len(surv_cat_male[-1]),len(surv_cat_female[-1]))\n",
        "  print(f\"{len(surv_cat_male[-1]) :<{padding}}\",\"|\",f\"{len(surv_cat_female[-1]):>{padding}}\")\n",
        "plt.rcdefaults()\n",
        "fig,ax = plt.subplots()\n",
        "for idx,_list in enumerate(surv_cat_male):\n",
        "  males_len=len(_list)\n",
        "  females_len=len(surv_cat_female[idx])\n",
        "\n",
        "  ax.barh(idx+0.2,females_len,0.3,color=\"red\")\n",
        "  ax.barh(idx-0.2,males_len,0.3,color=\"blue\")\n",
        "\n",
        "ax.set_yticks(range(5),categories_str)\n",
        "ax.invert_yaxis()\n",
        "plt.show()"
      ]
    },
    {
      "cell_type": "markdown",
      "metadata": {
        "id": "TsmlJolS3TY1"
      },
      "source": [
        "Máme 500 přeživších v Dataframe surv"
      ]
    },
    {
      "cell_type": "code",
      "source": [
        "plt.bar(0,)"
      ],
      "metadata": {
        "id": "zvplaYZ9hdIQ"
      },
      "execution_count": null,
      "outputs": []
    },
    {
      "cell_type": "code",
      "execution_count": null,
      "metadata": {
        "id": "cHF7L5IH3TY1",
        "outputId": "9a5e0ccd-638f-462c-b56d-c104d1e19636",
        "colab": {
          "base_uri": "https://localhost:8080/"
        }
      },
      "outputs": [
        {
          "output_type": "stream",
          "name": "stderr",
          "text": [
            "/usr/local/lib/python3.9/dist-packages/pandas/util/_decorators.py:311: SettingWithCopyWarning: \n",
            "A value is trying to be set on a copy of a slice from a DataFrame\n",
            "\n",
            "See the caveats in the documentation: https://pandas.pydata.org/pandas-docs/stable/user_guide/indexing.html#returning-a-view-versus-a-copy\n",
            "  return func(*args, **kwargs)\n"
          ]
        }
      ],
      "source": [
        "#práce s daty\n",
        "#zbavíme se řádků kde věk není znám\n",
        "surv.dropna(subset=['age'], inplace=True)# inplace vyhodí varování, ničemu nevadí\n",
        "lost.dropna(subset=['age'], inplace=True)\n",
        "\n",
        "#data pro populační pyramidu\n",
        "#získání X\n",
        "value_x_female = surv.loc[surv['sex'] == \"female\"]\n",
        "value_x_female = list(value_x_female['age'])\n",
        "\n",
        "value_x_male = surv.loc[surv['sex'] == \"male\"]\n",
        "value_x_male = list(value_x_male['age'])\n",
        "\n",
        "#získání Y - věk\n",
        "value_y_max = surv['age'].max()+1\n",
        "value_y = range(int(value_y_max))\n",
        "\n",
        "value_x_maleF = list()\n",
        "for y in value_y:\n",
        "    value_x_maleF.append(0)\n",
        "    for x in value_x_male:\n",
        "        if int(x) == y:\n",
        "            value_x_male.remove(x)\n",
        "            value_x_maleF[y]=value_x_maleF[y] + 1\n",
        "            \n",
        "value_x_maleF = np.array(value_x_maleF)\n",
        "            \n",
        "value_x_femaleF = list()\n",
        "for y in value_y:\n",
        "    value_x_femaleF.append(0)\n",
        "    for x in value_x_female:\n",
        "        if int(x) == y:\n",
        "            value_x_female.remove(x)\n",
        "            value_x_femaleF[y]=value_x_maleF[y] + 1\n",
        "\n",
        "value_x_femaleF = np.array(value_x_femaleF)\n",
        "         \n",
        "\n",
        "#data pro děti - survived\n",
        "underage = surv.loc[surv['age'] <= 18 ]\n",
        "underage_batole = len(underage.loc[underage['age'] <= 1 ])\n",
        "underage_nemluve = len(underage.loc[underage['age'] > 1].loc[underage['age'] <= 3 ])\n",
        "underage_MS = len(underage.loc[underage['age'] > 3].loc[underage['age'] <= 6])\n",
        "underage_ZS = len(underage.loc[underage['age'] > 6].loc[underage['age'] <= 12 ])\n",
        "underage_SS = len(underage.loc[underage['age'] > 12 ])\n",
        "\n",
        "value_y_deti =[underage_batole, underage_nemluve, underage_MS, underage_ZS, underage_SS]\n",
        "value_x_deti = range(1,6)\n",
        "\n",
        "#data pro děti - lost\n",
        "\n",
        "lost_underage = lost.loc[lost['age'] <= 18 ]\n",
        "lost_underage_batole = len(lost_underage.loc[lost_underage['age'] <= 1 ])\n",
        "lost_underage_nemluve = len(lost_underage.loc[lost_underage['age'] > 1].loc[lost_underage['age'] <= 3 ])\n",
        "lost_underage_MS = len(lost_underage.loc[lost_underage['age'] > 3].loc[lost_underage['age'] <= 6])\n",
        "lost_underage_ZS = len(lost_underage.loc[lost_underage['age'] > 6].loc[lost_underage['age'] <= 12 ])\n",
        "lost_underage_SS = len(lost_underage.loc[lost_underage['age'] > 12 ])\n",
        "\n",
        "lost_value_y_deti =[lost_underage_batole, lost_underage_nemluve, lost_underage_MS, lost_underage_ZS, lost_underage_SS]"
      ]
    },
    {
      "cell_type": "code",
      "execution_count": null,
      "metadata": {
        "scrolled": true,
        "id": "ezHcH9Vd3TY2",
        "outputId": "48af2ae1-26c6-4b17-a4d3-8994e4cf857f",
        "colab": {
          "base_uri": "https://localhost:8080/",
          "height": 300
        }
      },
      "outputs": [
        {
          "output_type": "stream",
          "name": "stdout",
          "text": [
            "range(0, 81) range(1, 6)\n"
          ]
        },
        {
          "output_type": "execute_result",
          "data": {
            "text/plain": [
              "<matplotlib.legend.Legend at 0x7f056854aa30>"
            ]
          },
          "metadata": {},
          "execution_count": 20
        },
        {
          "output_type": "display_data",
          "data": {
            "text/plain": [
              "<Figure size 432x288 with 1 Axes>"
            ],
            "image/png": "[encoded data removed]"
          },
          "metadata": {
            "needs_background": "light"
          }
        }
      ],
      "source": [
        "#populační pyramida\n",
        "plt.barh(value_y, -value_x_maleF)\n",
        "plt.barh(value_y, value_x_femaleF, color=\"red\")\n",
        "plt.xticks(range(-10, 11, 2),list(range(10, 0, -2)) + list(range(0, 11, 2)))\n",
        "plt.legend([\"Muži\", \"Ženy\"])\n"
      ]
    },
    {
      "cell_type": "code",
      "execution_count": null,
      "metadata": {
        "id": "xFy0NYu33TY2",
        "outputId": "dc359e3f-db86-4c5b-a173-447804830930"
      },
      "outputs": [
        {
          "data": {
            "text/plain": [
              "<matplotlib.legend.Legend at 0x7f7a376f4b00>"
            ]
          },
          "execution_count": 20,
          "metadata": {},
          "output_type": "execute_result"
        },
        {
          "data": {
            "image/png": "[encoded data removed]",
            "text/plain": [
              "<Figure size 432x288 with 1 Axes>"
            ]
          },
          "metadata": {
            "needs_background": "light"
          },
          "output_type": "display_data"
        }
      ],
      "source": [
        "#děti, šance dle kategorie\n",
        "plt.bar(value_x_deti, value_y_deti, bottom=lost_value_y_deti, color=\"orange\")\n",
        "plt.bar(value_x_deti, lost_value_y_deti, color='grey')\n",
        "plt.legend([\"Přeživší\", \"Ztraceni\"])"
      ]
    }
  ],
  "metadata": {
    "kernelspec": {
      "display_name": "Python 3",
      "language": "python",
      "name": "python3"
    },
    "language_info": {
      "codemirror_mode": {
        "name": "ipython",
        "version": 3
      },
      "file_extension": ".py",
      "mimetype": "text/x-python",
      "name": "python",
      "nbconvert_exporter": "python",
      "pygments_lexer": "ipython3",
      "version": "3.7.0"
    },
    "colab": {
      "provenance": [],
      "collapsed_sections": [
        "4bHipA3a3TYq"
      ],
      "include_colab_link": true
    }
  },
  "nbformat": 4,
  "nbformat_minor": 0
}